{
 "cells": [
  {
   "cell_type": "code",
   "execution_count": 37,
   "metadata": {},
   "outputs": [],
   "source": [
    "import plotly.express as px, pandas as pd\n",
    "import plotly.graph_objects as go\n",
    "from plotly.subplots import make_subplots"
   ]
  },
  {
   "cell_type": "code",
   "execution_count": 38,
   "metadata": {},
   "outputs": [
    {
     "name": "stderr",
     "output_type": "stream",
     "text": [
      "/var/folders/lc/3lf1vl6d5278xt54g66z2f880000gn/T/ipykernel_73123/2259798877.py:9: SettingWithCopyWarning: \n",
      "A value is trying to be set on a copy of a slice from a DataFrame.\n",
      "Try using .loc[row_indexer,col_indexer] = value instead\n",
      "\n",
      "See the caveats in the documentation: https://pandas.pydata.org/pandas-docs/stable/user_guide/indexing.html#returning-a-view-versus-a-copy\n",
      "  comm_EC_df['min'] = comm_EC_df['Timestamp'].dt.round('min')\n"
     ]
    },
    {
     "data": {
      "text/html": [
       "<div>\n",
       "<style scoped>\n",
       "    .dataframe tbody tr th:only-of-type {\n",
       "        vertical-align: middle;\n",
       "    }\n",
       "\n",
       "    .dataframe tbody tr th {\n",
       "        vertical-align: top;\n",
       "    }\n",
       "\n",
       "    .dataframe thead th {\n",
       "        text-align: right;\n",
       "    }\n",
       "</style>\n",
       "<table border=\"1\" class=\"dataframe\">\n",
       "  <thead>\n",
       "    <tr style=\"text-align: right;\">\n",
       "      <th></th>\n",
       "      <th>min</th>\n",
       "      <th>Calls</th>\n",
       "    </tr>\n",
       "  </thead>\n",
       "  <tbody>\n",
       "    <tr>\n",
       "      <th>0</th>\n",
       "      <td>2014-06-08 11:30:00</td>\n",
       "      <td>63</td>\n",
       "    </tr>\n",
       "    <tr>\n",
       "      <th>1</th>\n",
       "      <td>2014-06-08 11:31:00</td>\n",
       "      <td>77</td>\n",
       "    </tr>\n",
       "    <tr>\n",
       "      <th>2</th>\n",
       "      <td>2014-06-08 11:32:00</td>\n",
       "      <td>69</td>\n",
       "    </tr>\n",
       "    <tr>\n",
       "      <th>3</th>\n",
       "      <td>2014-06-08 11:33:00</td>\n",
       "      <td>75</td>\n",
       "    </tr>\n",
       "    <tr>\n",
       "      <th>4</th>\n",
       "      <td>2014-06-08 11:34:00</td>\n",
       "      <td>125</td>\n",
       "    </tr>\n",
       "  </tbody>\n",
       "</table>\n",
       "</div>"
      ],
      "text/plain": [
       "                  min  Calls\n",
       "0 2014-06-08 11:30:00     63\n",
       "1 2014-06-08 11:31:00     77\n",
       "2 2014-06-08 11:32:00     69\n",
       "3 2014-06-08 11:33:00     75\n",
       "4 2014-06-08 11:34:00    125"
      ]
     },
     "execution_count": 38,
     "metadata": {},
     "output_type": "execute_result"
    }
   ],
   "source": [
    "#Amount of calls per minute on Sunday btw 11:30-12:30 for #For 'Entry Corridor'\n",
    "comm_sun_df = pd.read_csv('hw02-data/Communication_data/comm-data-Sun.csv')\n",
    "comm_sun_df['Timestamp'] = pd.to_datetime(comm_sun_df['Timestamp'])\n",
    "mask_EC = (comm_sun_df['location'] == 'Entry Corridor')\n",
    "comm_EC_df = comm_sun_df.loc[mask_EC]\n",
    "comm_EC_df.head()\n",
    "\n",
    "#filter by time \n",
    "comm_EC_df['min'] = comm_EC_df['Timestamp'].dt.round('min')\n",
    "\n",
    "#Filter date range\n",
    "start_date = '2014-06-08 11:30:00'\n",
    "end_date = '2014-06-08 12:30:00'\n",
    "mask = (comm_EC_df['Timestamp'] >= start_date) & (comm_EC_df['Timestamp'] <= end_date)\n",
    "comm_EC_noon_df = comm_EC_df.loc[mask]\n",
    "\n",
    "#Group by minute\n",
    "comm_EC_noon_df = comm_EC_noon_df.groupby('min').size().reset_index(name='Calls')\n",
    "\n",
    "comm_EC_noon_df.head()"
   ]
  },
  {
   "cell_type": "code",
   "execution_count": 39,
   "metadata": {},
   "outputs": [
    {
     "name": "stderr",
     "output_type": "stream",
     "text": [
      "/var/folders/lc/3lf1vl6d5278xt54g66z2f880000gn/T/ipykernel_73123/2215578758.py:9: SettingWithCopyWarning: \n",
      "A value is trying to be set on a copy of a slice from a DataFrame.\n",
      "Try using .loc[row_indexer,col_indexer] = value instead\n",
      "\n",
      "See the caveats in the documentation: https://pandas.pydata.org/pandas-docs/stable/user_guide/indexing.html#returning-a-view-versus-a-copy\n",
      "  comm_TL_df['min'] = comm_TL_df['Timestamp'].dt.round('min')\n"
     ]
    },
    {
     "data": {
      "text/html": [
       "<div>\n",
       "<style scoped>\n",
       "    .dataframe tbody tr th:only-of-type {\n",
       "        vertical-align: middle;\n",
       "    }\n",
       "\n",
       "    .dataframe tbody tr th {\n",
       "        vertical-align: top;\n",
       "    }\n",
       "\n",
       "    .dataframe thead th {\n",
       "        text-align: right;\n",
       "    }\n",
       "</style>\n",
       "<table border=\"1\" class=\"dataframe\">\n",
       "  <thead>\n",
       "    <tr style=\"text-align: right;\">\n",
       "      <th></th>\n",
       "      <th>min</th>\n",
       "      <th>Calls</th>\n",
       "    </tr>\n",
       "  </thead>\n",
       "  <tbody>\n",
       "    <tr>\n",
       "      <th>0</th>\n",
       "      <td>2014-06-08 11:30:00</td>\n",
       "      <td>153</td>\n",
       "    </tr>\n",
       "    <tr>\n",
       "      <th>1</th>\n",
       "      <td>2014-06-08 11:31:00</td>\n",
       "      <td>263</td>\n",
       "    </tr>\n",
       "    <tr>\n",
       "      <th>2</th>\n",
       "      <td>2014-06-08 11:32:00</td>\n",
       "      <td>397</td>\n",
       "    </tr>\n",
       "    <tr>\n",
       "      <th>3</th>\n",
       "      <td>2014-06-08 11:33:00</td>\n",
       "      <td>304</td>\n",
       "    </tr>\n",
       "    <tr>\n",
       "      <th>4</th>\n",
       "      <td>2014-06-08 11:34:00</td>\n",
       "      <td>254</td>\n",
       "    </tr>\n",
       "  </tbody>\n",
       "</table>\n",
       "</div>"
      ],
      "text/plain": [
       "                  min  Calls\n",
       "0 2014-06-08 11:30:00    153\n",
       "1 2014-06-08 11:31:00    263\n",
       "2 2014-06-08 11:32:00    397\n",
       "3 2014-06-08 11:33:00    304\n",
       "4 2014-06-08 11:34:00    254"
      ]
     },
     "execution_count": 39,
     "metadata": {},
     "output_type": "execute_result"
    }
   ],
   "source": [
    "#Amount of calls per minute on Sunday btw 11:30-12:30 for #For 'Tundra Land'\n",
    "comm_sun_df = pd.read_csv('hw02-data/Communication_data/comm-data-Sun.csv')\n",
    "comm_sun_df['Timestamp'] = pd.to_datetime(comm_sun_df['Timestamp'])\n",
    "mask_TL = (comm_sun_df['location'] == 'Tundra Land')\n",
    "comm_TL_df = comm_sun_df.loc[mask_TL]\n",
    "comm_TL_df.head()\n",
    "\n",
    "#filter by time \n",
    "comm_TL_df['min'] = comm_TL_df['Timestamp'].dt.round('min')\n",
    "\n",
    "#Filter date range\n",
    "start_date = '2014-06-08 11:30:00'\n",
    "end_date = '2014-06-08 12:30:00'\n",
    "mask = (comm_TL_df['Timestamp'] >= start_date) & (comm_TL_df['Timestamp'] <= end_date)\n",
    "comm_TL_noon_df = comm_TL_df.loc[mask]\n",
    "\n",
    "#Group by minute\n",
    "comm_TL_noon_df = comm_TL_noon_df.groupby('min').size().reset_index(name='Calls')\n",
    "\n",
    "comm_TL_noon_df.head()"
   ]
  },
  {
   "cell_type": "code",
   "execution_count": 40,
   "metadata": {},
   "outputs": [
    {
     "name": "stderr",
     "output_type": "stream",
     "text": [
      "/var/folders/lc/3lf1vl6d5278xt54g66z2f880000gn/T/ipykernel_73123/650323550.py:9: SettingWithCopyWarning: \n",
      "A value is trying to be set on a copy of a slice from a DataFrame.\n",
      "Try using .loc[row_indexer,col_indexer] = value instead\n",
      "\n",
      "See the caveats in the documentation: https://pandas.pydata.org/pandas-docs/stable/user_guide/indexing.html#returning-a-view-versus-a-copy\n",
      "  comm_KL_df['min'] = comm_KL_df['Timestamp'].dt.round('min')\n"
     ]
    },
    {
     "data": {
      "text/html": [
       "<div>\n",
       "<style scoped>\n",
       "    .dataframe tbody tr th:only-of-type {\n",
       "        vertical-align: middle;\n",
       "    }\n",
       "\n",
       "    .dataframe tbody tr th {\n",
       "        vertical-align: top;\n",
       "    }\n",
       "\n",
       "    .dataframe thead th {\n",
       "        text-align: right;\n",
       "    }\n",
       "</style>\n",
       "<table border=\"1\" class=\"dataframe\">\n",
       "  <thead>\n",
       "    <tr style=\"text-align: right;\">\n",
       "      <th></th>\n",
       "      <th>min</th>\n",
       "      <th>Calls</th>\n",
       "    </tr>\n",
       "  </thead>\n",
       "  <tbody>\n",
       "    <tr>\n",
       "      <th>0</th>\n",
       "      <td>2014-06-08 11:30:00</td>\n",
       "      <td>222</td>\n",
       "    </tr>\n",
       "    <tr>\n",
       "      <th>1</th>\n",
       "      <td>2014-06-08 11:31:00</td>\n",
       "      <td>215</td>\n",
       "    </tr>\n",
       "    <tr>\n",
       "      <th>2</th>\n",
       "      <td>2014-06-08 11:32:00</td>\n",
       "      <td>135</td>\n",
       "    </tr>\n",
       "    <tr>\n",
       "      <th>3</th>\n",
       "      <td>2014-06-08 11:33:00</td>\n",
       "      <td>116</td>\n",
       "    </tr>\n",
       "    <tr>\n",
       "      <th>4</th>\n",
       "      <td>2014-06-08 11:34:00</td>\n",
       "      <td>91</td>\n",
       "    </tr>\n",
       "  </tbody>\n",
       "</table>\n",
       "</div>"
      ],
      "text/plain": [
       "                  min  Calls\n",
       "0 2014-06-08 11:30:00    222\n",
       "1 2014-06-08 11:31:00    215\n",
       "2 2014-06-08 11:32:00    135\n",
       "3 2014-06-08 11:33:00    116\n",
       "4 2014-06-08 11:34:00     91"
      ]
     },
     "execution_count": 40,
     "metadata": {},
     "output_type": "execute_result"
    }
   ],
   "source": [
    "#Amount of calls per minute on Sunday btw 11:30-12:30 for #For 'Kiddie Land'\n",
    "comm_sun_df = pd.read_csv('hw02-data/Communication_data/comm-data-Sun.csv')\n",
    "comm_sun_df['Timestamp'] = pd.to_datetime(comm_sun_df['Timestamp'])\n",
    "mask_KL = (comm_sun_df['location'] == 'Kiddie Land')\n",
    "comm_KL_df = comm_sun_df.loc[mask_KL]\n",
    "comm_KL_df.head()\n",
    "\n",
    "#filter by time group by minute\n",
    "comm_KL_df['min'] = comm_KL_df['Timestamp'].dt.round('min')\n",
    "\n",
    "#\n",
    "start_date = '2014-06-08 11:30:00'\n",
    "end_date = '2014-06-08 12:30:00'\n",
    "mask = (comm_KL_df['Timestamp'] >= start_date) & (comm_KL_df['Timestamp'] <= end_date)\n",
    "comm_KL_noon_df = comm_KL_df.loc[mask]\n",
    "\n",
    "#Group by minute\n",
    "comm_KL_noon_df = comm_KL_noon_df.groupby('min').size().reset_index(name='Calls')\n",
    "\n",
    "comm_KL_noon_df.head()"
   ]
  },
  {
   "cell_type": "code",
   "execution_count": 41,
   "metadata": {},
   "outputs": [
    {
     "name": "stderr",
     "output_type": "stream",
     "text": [
      "/var/folders/lc/3lf1vl6d5278xt54g66z2f880000gn/T/ipykernel_73123/1364757248.py:9: SettingWithCopyWarning: \n",
      "A value is trying to be set on a copy of a slice from a DataFrame.\n",
      "Try using .loc[row_indexer,col_indexer] = value instead\n",
      "\n",
      "See the caveats in the documentation: https://pandas.pydata.org/pandas-docs/stable/user_guide/indexing.html#returning-a-view-versus-a-copy\n",
      "  comm_WL_df['min'] = comm_WL_df['Timestamp'].dt.round('min')\n"
     ]
    },
    {
     "data": {
      "text/html": [
       "<div>\n",
       "<style scoped>\n",
       "    .dataframe tbody tr th:only-of-type {\n",
       "        vertical-align: middle;\n",
       "    }\n",
       "\n",
       "    .dataframe tbody tr th {\n",
       "        vertical-align: top;\n",
       "    }\n",
       "\n",
       "    .dataframe thead th {\n",
       "        text-align: right;\n",
       "    }\n",
       "</style>\n",
       "<table border=\"1\" class=\"dataframe\">\n",
       "  <thead>\n",
       "    <tr style=\"text-align: right;\">\n",
       "      <th></th>\n",
       "      <th>min</th>\n",
       "      <th>Calls</th>\n",
       "    </tr>\n",
       "  </thead>\n",
       "  <tbody>\n",
       "    <tr>\n",
       "      <th>0</th>\n",
       "      <td>2014-06-08 11:30:00</td>\n",
       "      <td>900</td>\n",
       "    </tr>\n",
       "    <tr>\n",
       "      <th>1</th>\n",
       "      <td>2014-06-08 11:31:00</td>\n",
       "      <td>1286</td>\n",
       "    </tr>\n",
       "    <tr>\n",
       "      <th>2</th>\n",
       "      <td>2014-06-08 11:32:00</td>\n",
       "      <td>1023</td>\n",
       "    </tr>\n",
       "    <tr>\n",
       "      <th>3</th>\n",
       "      <td>2014-06-08 11:33:00</td>\n",
       "      <td>1697</td>\n",
       "    </tr>\n",
       "    <tr>\n",
       "      <th>4</th>\n",
       "      <td>2014-06-08 11:34:00</td>\n",
       "      <td>1416</td>\n",
       "    </tr>\n",
       "  </tbody>\n",
       "</table>\n",
       "</div>"
      ],
      "text/plain": [
       "                  min  Calls\n",
       "0 2014-06-08 11:30:00    900\n",
       "1 2014-06-08 11:31:00   1286\n",
       "2 2014-06-08 11:32:00   1023\n",
       "3 2014-06-08 11:33:00   1697\n",
       "4 2014-06-08 11:34:00   1416"
      ]
     },
     "execution_count": 41,
     "metadata": {},
     "output_type": "execute_result"
    }
   ],
   "source": [
    "#Amount of calls per minute on Sunday btw 11:30-12:30 for #For 'Wet Land'\n",
    "comm_sun_df = pd.read_csv('hw02-data/Communication_data/comm-data-Sun.csv')\n",
    "comm_sun_df['Timestamp'] = pd.to_datetime(comm_sun_df['Timestamp'])\n",
    "mask_WL = (comm_sun_df['location'] == 'Wet Land')\n",
    "comm_WL_df = comm_sun_df.loc[mask_WL]\n",
    "comm_WL_df.head()\n",
    "\n",
    "#filter by time \n",
    "comm_WL_df['min'] = comm_WL_df['Timestamp'].dt.round('min')\n",
    "start_date = '2014-06-08 11:30:00'\n",
    "end_date = '2014-06-08 12:30:00'\n",
    "mask = (comm_WL_df['Timestamp'] >= start_date) & (comm_WL_df['Timestamp'] <= end_date)\n",
    "comm_WL_noon_df = comm_WL_df.loc[mask]\n",
    "\n",
    "#Group by minute\n",
    "comm_WL_noon_df = comm_WL_noon_df.groupby('min').size().reset_index(name='Calls')\n",
    "\n",
    "comm_WL_noon_df.head()"
   ]
  },
  {
   "cell_type": "code",
   "execution_count": 42,
   "metadata": {},
   "outputs": [
    {
     "name": "stderr",
     "output_type": "stream",
     "text": [
      "/var/folders/lc/3lf1vl6d5278xt54g66z2f880000gn/T/ipykernel_73123/1731179914.py:9: SettingWithCopyWarning: \n",
      "A value is trying to be set on a copy of a slice from a DataFrame.\n",
      "Try using .loc[row_indexer,col_indexer] = value instead\n",
      "\n",
      "See the caveats in the documentation: https://pandas.pydata.org/pandas-docs/stable/user_guide/indexing.html#returning-a-view-versus-a-copy\n",
      "  comm_CA_df['min'] = comm_CA_df['Timestamp'].dt.round('min')\n"
     ]
    },
    {
     "data": {
      "text/html": [
       "<div>\n",
       "<style scoped>\n",
       "    .dataframe tbody tr th:only-of-type {\n",
       "        vertical-align: middle;\n",
       "    }\n",
       "\n",
       "    .dataframe tbody tr th {\n",
       "        vertical-align: top;\n",
       "    }\n",
       "\n",
       "    .dataframe thead th {\n",
       "        text-align: right;\n",
       "    }\n",
       "</style>\n",
       "<table border=\"1\" class=\"dataframe\">\n",
       "  <thead>\n",
       "    <tr style=\"text-align: right;\">\n",
       "      <th></th>\n",
       "      <th>min</th>\n",
       "      <th>Calls</th>\n",
       "    </tr>\n",
       "  </thead>\n",
       "  <tbody>\n",
       "    <tr>\n",
       "      <th>0</th>\n",
       "      <td>2014-06-08 11:30:00</td>\n",
       "      <td>113</td>\n",
       "    </tr>\n",
       "    <tr>\n",
       "      <th>1</th>\n",
       "      <td>2014-06-08 11:31:00</td>\n",
       "      <td>183</td>\n",
       "    </tr>\n",
       "    <tr>\n",
       "      <th>2</th>\n",
       "      <td>2014-06-08 11:32:00</td>\n",
       "      <td>176</td>\n",
       "    </tr>\n",
       "    <tr>\n",
       "      <th>3</th>\n",
       "      <td>2014-06-08 11:33:00</td>\n",
       "      <td>135</td>\n",
       "    </tr>\n",
       "    <tr>\n",
       "      <th>4</th>\n",
       "      <td>2014-06-08 11:34:00</td>\n",
       "      <td>245</td>\n",
       "    </tr>\n",
       "  </tbody>\n",
       "</table>\n",
       "</div>"
      ],
      "text/plain": [
       "                  min  Calls\n",
       "0 2014-06-08 11:30:00    113\n",
       "1 2014-06-08 11:31:00    183\n",
       "2 2014-06-08 11:32:00    176\n",
       "3 2014-06-08 11:33:00    135\n",
       "4 2014-06-08 11:34:00    245"
      ]
     },
     "execution_count": 42,
     "metadata": {},
     "output_type": "execute_result"
    }
   ],
   "source": [
    "#Amount of calls per minute on Sunday btw 11:30-12:30 for #For 'Coaster Alley'\n",
    "comm_sun_df = pd.read_csv('hw02-data/Communication_data/comm-data-Sun.csv')\n",
    "comm_sun_df['Timestamp'] = pd.to_datetime(comm_sun_df['Timestamp'])\n",
    "mask_CA = (comm_sun_df['location'] == 'Coaster Alley')\n",
    "comm_CA_df = comm_sun_df.loc[mask_CA]\n",
    "comm_CA_df.head()\n",
    "\n",
    "#filter by time group by minute\n",
    "comm_CA_df['min'] = comm_CA_df['Timestamp'].dt.round('min')\n",
    "start_date = '2014-06-08 11:30:00'\n",
    "end_date = '2014-06-08 12:30:00'\n",
    "mask = (comm_CA_df['Timestamp'] >= start_date) & (comm_CA_df['Timestamp'] <= end_date)\n",
    "comm_CA_noon_df = comm_CA_df.loc[mask]\n",
    "\n",
    "#Group by minute\n",
    "comm_CA_noon_df = comm_CA_noon_df.groupby('min').size().reset_index(name='Calls')\n",
    "\n",
    "comm_CA_noon_df.head()"
   ]
  },
  {
   "cell_type": "code",
   "execution_count": 48,
   "metadata": {},
   "outputs": [
    {
     "data": {
      "application/vnd.plotly.v1+json": {
       "config": {
        "plotlyServerURL": "https://plot.ly"
       },
       "data": [
        {
         "fill": "tozeroy",
         "mode": "lines",
         "name": "Entry Corridor",
         "type": "scatter",
         "x": [
          "2014-06-08T11:30:00",
          "2014-06-08T11:31:00",
          "2014-06-08T11:32:00",
          "2014-06-08T11:33:00",
          "2014-06-08T11:34:00",
          "2014-06-08T11:35:00",
          "2014-06-08T11:36:00",
          "2014-06-08T11:37:00",
          "2014-06-08T11:38:00",
          "2014-06-08T11:39:00",
          "2014-06-08T11:40:00",
          "2014-06-08T11:41:00",
          "2014-06-08T11:42:00",
          "2014-06-08T11:43:00",
          "2014-06-08T11:44:00",
          "2014-06-08T11:45:00",
          "2014-06-08T11:46:00",
          "2014-06-08T11:47:00",
          "2014-06-08T11:48:00",
          "2014-06-08T11:49:00",
          "2014-06-08T11:50:00",
          "2014-06-08T11:51:00",
          "2014-06-08T11:52:00",
          "2014-06-08T11:53:00",
          "2014-06-08T11:54:00",
          "2014-06-08T11:55:00",
          "2014-06-08T11:56:00",
          "2014-06-08T11:57:00",
          "2014-06-08T11:58:00",
          "2014-06-08T11:59:00",
          "2014-06-08T12:00:00",
          "2014-06-08T12:01:00",
          "2014-06-08T12:02:00",
          "2014-06-08T12:03:00",
          "2014-06-08T12:04:00",
          "2014-06-08T12:05:00",
          "2014-06-08T12:06:00",
          "2014-06-08T12:07:00",
          "2014-06-08T12:08:00",
          "2014-06-08T12:09:00",
          "2014-06-08T12:10:00",
          "2014-06-08T12:11:00",
          "2014-06-08T12:12:00",
          "2014-06-08T12:13:00",
          "2014-06-08T12:14:00",
          "2014-06-08T12:15:00",
          "2014-06-08T12:16:00",
          "2014-06-08T12:17:00",
          "2014-06-08T12:18:00",
          "2014-06-08T12:19:00",
          "2014-06-08T12:20:00",
          "2014-06-08T12:21:00",
          "2014-06-08T12:22:00",
          "2014-06-08T12:23:00",
          "2014-06-08T12:24:00",
          "2014-06-08T12:25:00",
          "2014-06-08T12:26:00",
          "2014-06-08T12:27:00",
          "2014-06-08T12:28:00",
          "2014-06-08T12:29:00",
          "2014-06-08T12:30:00"
         ],
         "xaxis": "x",
         "y": [
          63,
          77,
          69,
          75,
          125,
          153,
          233,
          115,
          100,
          304,
          52,
          399,
          240,
          83,
          260,
          123,
          463,
          276,
          290,
          360,
          102,
          184,
          173,
          157,
          162,
          213,
          200,
          113,
          188,
          110,
          1558,
          528,
          1095,
          1516,
          1782,
          2777,
          1538,
          1500,
          1434,
          1149,
          2620,
          1177,
          1368,
          1070,
          1047,
          2429,
          1035,
          1088,
          923,
          835,
          2174,
          918,
          794,
          683,
          725,
          1984,
          459,
          486,
          347,
          323,
          1582
         ],
         "yaxis": "y"
        },
        {
         "fill": "tozeroy",
         "mode": "lines",
         "name": "Tundra Land",
         "type": "scatter",
         "x": [
          "2014-06-08T11:30:00",
          "2014-06-08T11:31:00",
          "2014-06-08T11:32:00",
          "2014-06-08T11:33:00",
          "2014-06-08T11:34:00",
          "2014-06-08T11:35:00",
          "2014-06-08T11:36:00",
          "2014-06-08T11:37:00",
          "2014-06-08T11:38:00",
          "2014-06-08T11:39:00",
          "2014-06-08T11:40:00",
          "2014-06-08T11:41:00",
          "2014-06-08T11:42:00",
          "2014-06-08T11:43:00",
          "2014-06-08T11:44:00",
          "2014-06-08T11:45:00",
          "2014-06-08T11:46:00",
          "2014-06-08T11:47:00",
          "2014-06-08T11:48:00",
          "2014-06-08T11:49:00",
          "2014-06-08T11:50:00",
          "2014-06-08T11:51:00",
          "2014-06-08T11:52:00",
          "2014-06-08T11:53:00",
          "2014-06-08T11:54:00",
          "2014-06-08T11:55:00",
          "2014-06-08T11:56:00",
          "2014-06-08T11:57:00",
          "2014-06-08T11:58:00",
          "2014-06-08T11:59:00",
          "2014-06-08T12:00:00",
          "2014-06-08T12:01:00",
          "2014-06-08T12:02:00",
          "2014-06-08T12:03:00",
          "2014-06-08T12:04:00",
          "2014-06-08T12:05:00",
          "2014-06-08T12:06:00",
          "2014-06-08T12:07:00",
          "2014-06-08T12:08:00",
          "2014-06-08T12:09:00",
          "2014-06-08T12:10:00",
          "2014-06-08T12:11:00",
          "2014-06-08T12:12:00",
          "2014-06-08T12:13:00",
          "2014-06-08T12:14:00",
          "2014-06-08T12:15:00",
          "2014-06-08T12:16:00",
          "2014-06-08T12:17:00",
          "2014-06-08T12:18:00",
          "2014-06-08T12:19:00",
          "2014-06-08T12:20:00",
          "2014-06-08T12:21:00",
          "2014-06-08T12:22:00",
          "2014-06-08T12:23:00",
          "2014-06-08T12:24:00",
          "2014-06-08T12:25:00",
          "2014-06-08T12:26:00",
          "2014-06-08T12:27:00",
          "2014-06-08T12:28:00",
          "2014-06-08T12:29:00",
          "2014-06-08T12:30:00"
         ],
         "xaxis": "x2",
         "y": [
          153,
          263,
          397,
          304,
          254,
          475,
          451,
          479,
          274,
          327,
          345,
          568,
          371,
          182,
          388,
          495,
          362,
          304,
          518,
          810,
          670,
          582,
          533,
          232,
          362,
          326,
          218,
          441,
          592,
          347,
          726,
          484,
          262,
          467,
          719,
          538,
          572,
          549,
          355,
          442,
          221,
          270,
          458,
          206,
          224,
          412,
          355,
          337,
          460,
          358,
          325,
          314,
          606,
          527,
          709,
          373,
          493,
          775,
          678,
          332,
          299
         ],
         "yaxis": "y2"
        },
        {
         "fill": "tozeroy",
         "mode": "lines",
         "name": "Kiddie Land",
         "type": "scatter",
         "x": [
          "2014-06-08T11:30:00",
          "2014-06-08T11:31:00",
          "2014-06-08T11:32:00",
          "2014-06-08T11:33:00",
          "2014-06-08T11:34:00",
          "2014-06-08T11:35:00",
          "2014-06-08T11:36:00",
          "2014-06-08T11:37:00",
          "2014-06-08T11:38:00",
          "2014-06-08T11:39:00",
          "2014-06-08T11:40:00",
          "2014-06-08T11:41:00",
          "2014-06-08T11:42:00",
          "2014-06-08T11:43:00",
          "2014-06-08T11:44:00",
          "2014-06-08T11:45:00",
          "2014-06-08T11:46:00",
          "2014-06-08T11:47:00",
          "2014-06-08T11:48:00",
          "2014-06-08T11:49:00",
          "2014-06-08T11:50:00",
          "2014-06-08T11:51:00",
          "2014-06-08T11:52:00",
          "2014-06-08T11:53:00",
          "2014-06-08T11:54:00",
          "2014-06-08T11:55:00",
          "2014-06-08T11:56:00",
          "2014-06-08T11:57:00",
          "2014-06-08T11:58:00",
          "2014-06-08T11:59:00",
          "2014-06-08T12:00:00",
          "2014-06-08T12:01:00",
          "2014-06-08T12:02:00",
          "2014-06-08T12:03:00",
          "2014-06-08T12:04:00",
          "2014-06-08T12:05:00",
          "2014-06-08T12:06:00",
          "2014-06-08T12:07:00",
          "2014-06-08T12:08:00",
          "2014-06-08T12:09:00",
          "2014-06-08T12:10:00",
          "2014-06-08T12:11:00",
          "2014-06-08T12:12:00",
          "2014-06-08T12:13:00",
          "2014-06-08T12:14:00",
          "2014-06-08T12:15:00",
          "2014-06-08T12:16:00",
          "2014-06-08T12:17:00",
          "2014-06-08T12:18:00",
          "2014-06-08T12:19:00",
          "2014-06-08T12:20:00",
          "2014-06-08T12:21:00",
          "2014-06-08T12:22:00",
          "2014-06-08T12:23:00",
          "2014-06-08T12:24:00",
          "2014-06-08T12:25:00",
          "2014-06-08T12:26:00",
          "2014-06-08T12:27:00",
          "2014-06-08T12:28:00",
          "2014-06-08T12:29:00",
          "2014-06-08T12:30:00"
         ],
         "xaxis": "x3",
         "y": [
          222,
          215,
          135,
          116,
          91,
          216,
          194,
          134,
          204,
          111,
          165,
          87,
          90,
          36,
          140,
          170,
          36,
          45,
          171,
          39,
          319,
          222,
          467,
          384,
          213,
          95,
          230,
          292,
          194,
          243,
          526,
          312,
          133,
          289,
          111,
          121,
          176,
          271,
          158,
          305,
          231,
          197,
          162,
          333,
          342,
          217,
          95,
          128,
          103,
          133,
          213,
          305,
          176,
          246,
          218,
          267,
          260,
          307,
          350,
          494,
          25
         ],
         "yaxis": "y3"
        },
        {
         "fill": "tozeroy",
         "mode": "lines",
         "name": "Kiddie Land",
         "type": "scatter",
         "x": [
          "2014-06-08T11:30:00",
          "2014-06-08T11:31:00",
          "2014-06-08T11:32:00",
          "2014-06-08T11:33:00",
          "2014-06-08T11:34:00",
          "2014-06-08T11:35:00",
          "2014-06-08T11:36:00",
          "2014-06-08T11:37:00",
          "2014-06-08T11:38:00",
          "2014-06-08T11:39:00",
          "2014-06-08T11:40:00",
          "2014-06-08T11:41:00",
          "2014-06-08T11:42:00",
          "2014-06-08T11:43:00",
          "2014-06-08T11:44:00",
          "2014-06-08T11:45:00",
          "2014-06-08T11:46:00",
          "2014-06-08T11:47:00",
          "2014-06-08T11:48:00",
          "2014-06-08T11:49:00",
          "2014-06-08T11:50:00",
          "2014-06-08T11:51:00",
          "2014-06-08T11:52:00",
          "2014-06-08T11:53:00",
          "2014-06-08T11:54:00",
          "2014-06-08T11:55:00",
          "2014-06-08T11:56:00",
          "2014-06-08T11:57:00",
          "2014-06-08T11:58:00",
          "2014-06-08T11:59:00",
          "2014-06-08T12:00:00",
          "2014-06-08T12:01:00",
          "2014-06-08T12:02:00",
          "2014-06-08T12:03:00",
          "2014-06-08T12:04:00",
          "2014-06-08T12:05:00",
          "2014-06-08T12:06:00",
          "2014-06-08T12:07:00",
          "2014-06-08T12:08:00",
          "2014-06-08T12:09:00",
          "2014-06-08T12:10:00",
          "2014-06-08T12:11:00",
          "2014-06-08T12:12:00",
          "2014-06-08T12:13:00",
          "2014-06-08T12:14:00",
          "2014-06-08T12:15:00",
          "2014-06-08T12:16:00",
          "2014-06-08T12:17:00",
          "2014-06-08T12:18:00",
          "2014-06-08T12:19:00",
          "2014-06-08T12:20:00",
          "2014-06-08T12:21:00",
          "2014-06-08T12:22:00",
          "2014-06-08T12:23:00",
          "2014-06-08T12:24:00",
          "2014-06-08T12:25:00",
          "2014-06-08T12:26:00",
          "2014-06-08T12:27:00",
          "2014-06-08T12:28:00",
          "2014-06-08T12:29:00",
          "2014-06-08T12:30:00"
         ],
         "xaxis": "x4",
         "y": [
          900,
          1286,
          1023,
          1697,
          1416,
          1845,
          1851,
          2056,
          1506,
          1990,
          2161,
          2189,
          2517,
          2005,
          2267,
          1997,
          1651,
          1713,
          1214,
          1253,
          1167,
          896,
          1262,
          899,
          1055,
          1321,
          1042,
          924,
          1355,
          1209,
          1920,
          2491,
          2239,
          2455,
          2202,
          2166,
          1954,
          1766,
          1727,
          1578,
          1698,
          1678,
          1730,
          1527,
          1449,
          1365,
          1542,
          1619,
          1422,
          1158,
          1607,
          1705,
          1348,
          1160,
          945,
          464,
          1041,
          1014,
          965,
          1066,
          589
         ],
         "yaxis": "y4"
        },
        {
         "fill": "tozeroy",
         "mode": "lines",
         "name": "Coaster Alley",
         "type": "scatter",
         "x": [
          "2014-06-08T11:30:00",
          "2014-06-08T11:31:00",
          "2014-06-08T11:32:00",
          "2014-06-08T11:33:00",
          "2014-06-08T11:34:00",
          "2014-06-08T11:35:00",
          "2014-06-08T11:36:00",
          "2014-06-08T11:37:00",
          "2014-06-08T11:38:00",
          "2014-06-08T11:39:00",
          "2014-06-08T11:40:00",
          "2014-06-08T11:41:00",
          "2014-06-08T11:42:00",
          "2014-06-08T11:43:00",
          "2014-06-08T11:44:00",
          "2014-06-08T11:45:00",
          "2014-06-08T11:46:00",
          "2014-06-08T11:47:00",
          "2014-06-08T11:48:00",
          "2014-06-08T11:49:00",
          "2014-06-08T11:50:00",
          "2014-06-08T11:51:00",
          "2014-06-08T11:52:00",
          "2014-06-08T11:53:00",
          "2014-06-08T11:54:00",
          "2014-06-08T11:55:00",
          "2014-06-08T11:56:00",
          "2014-06-08T11:57:00",
          "2014-06-08T11:58:00",
          "2014-06-08T11:59:00",
          "2014-06-08T12:00:00",
          "2014-06-08T12:01:00",
          "2014-06-08T12:02:00",
          "2014-06-08T12:03:00",
          "2014-06-08T12:04:00",
          "2014-06-08T12:05:00",
          "2014-06-08T12:06:00",
          "2014-06-08T12:07:00",
          "2014-06-08T12:08:00",
          "2014-06-08T12:09:00",
          "2014-06-08T12:10:00",
          "2014-06-08T12:11:00",
          "2014-06-08T12:12:00",
          "2014-06-08T12:13:00",
          "2014-06-08T12:14:00",
          "2014-06-08T12:15:00",
          "2014-06-08T12:16:00",
          "2014-06-08T12:17:00",
          "2014-06-08T12:18:00",
          "2014-06-08T12:19:00",
          "2014-06-08T12:20:00",
          "2014-06-08T12:21:00",
          "2014-06-08T12:22:00",
          "2014-06-08T12:23:00",
          "2014-06-08T12:24:00",
          "2014-06-08T12:25:00",
          "2014-06-08T12:26:00",
          "2014-06-08T12:27:00",
          "2014-06-08T12:28:00",
          "2014-06-08T12:29:00",
          "2014-06-08T12:30:00"
         ],
         "xaxis": "x5",
         "y": [
          900,
          1286,
          1023,
          1697,
          1416,
          1845,
          1851,
          2056,
          1506,
          1990,
          2161,
          2189,
          2517,
          2005,
          2267,
          1997,
          1651,
          1713,
          1214,
          1253,
          1167,
          896,
          1262,
          899,
          1055,
          1321,
          1042,
          924,
          1355,
          1209,
          1920,
          2491,
          2239,
          2455,
          2202,
          2166,
          1954,
          1766,
          1727,
          1578,
          1698,
          1678,
          1730,
          1527,
          1449,
          1365,
          1542,
          1619,
          1422,
          1158,
          1607,
          1705,
          1348,
          1160,
          945,
          464,
          1041,
          1014,
          965,
          1066,
          589
         ],
         "yaxis": "y5"
        }
       ],
       "layout": {
        "annotations": [
         {
          "font": {
           "size": 16
          },
          "showarrow": false,
          "text": "Entry Corridor",
          "x": 0.5,
          "xanchor": "center",
          "xref": "paper",
          "y": 1,
          "yanchor": "bottom",
          "yref": "paper"
         },
         {
          "font": {
           "size": 16
          },
          "showarrow": false,
          "text": "Tundra Land",
          "x": 0.5,
          "xanchor": "center",
          "xref": "paper",
          "y": 0.78,
          "yanchor": "bottom",
          "yref": "paper"
         },
         {
          "font": {
           "size": 16
          },
          "showarrow": false,
          "text": "Kiddie Land",
          "x": 0.5,
          "xanchor": "center",
          "xref": "paper",
          "y": 0.56,
          "yanchor": "bottom",
          "yref": "paper"
         },
         {
          "font": {
           "size": 16
          },
          "showarrow": false,
          "text": "Wet Land",
          "x": 0.5,
          "xanchor": "center",
          "xref": "paper",
          "y": 0.33999999999999997,
          "yanchor": "bottom",
          "yref": "paper"
         },
         {
          "font": {
           "size": 16
          },
          "showarrow": false,
          "text": "Coaster Alley",
          "x": 0.5,
          "xanchor": "center",
          "xref": "paper",
          "y": 0.12,
          "yanchor": "bottom",
          "yref": "paper"
         }
        ],
        "height": 900,
        "template": {
         "data": {
          "bar": [
           {
            "error_x": {
             "color": "#2a3f5f"
            },
            "error_y": {
             "color": "#2a3f5f"
            },
            "marker": {
             "line": {
              "color": "#E5ECF6",
              "width": 0.5
             },
             "pattern": {
              "fillmode": "overlay",
              "size": 10,
              "solidity": 0.2
             }
            },
            "type": "bar"
           }
          ],
          "barpolar": [
           {
            "marker": {
             "line": {
              "color": "#E5ECF6",
              "width": 0.5
             },
             "pattern": {
              "fillmode": "overlay",
              "size": 10,
              "solidity": 0.2
             }
            },
            "type": "barpolar"
           }
          ],
          "carpet": [
           {
            "aaxis": {
             "endlinecolor": "#2a3f5f",
             "gridcolor": "white",
             "linecolor": "white",
             "minorgridcolor": "white",
             "startlinecolor": "#2a3f5f"
            },
            "baxis": {
             "endlinecolor": "#2a3f5f",
             "gridcolor": "white",
             "linecolor": "white",
             "minorgridcolor": "white",
             "startlinecolor": "#2a3f5f"
            },
            "type": "carpet"
           }
          ],
          "choropleth": [
           {
            "colorbar": {
             "outlinewidth": 0,
             "ticks": ""
            },
            "type": "choropleth"
           }
          ],
          "contour": [
           {
            "colorbar": {
             "outlinewidth": 0,
             "ticks": ""
            },
            "colorscale": [
             [
              0,
              "#0d0887"
             ],
             [
              0.1111111111111111,
              "#46039f"
             ],
             [
              0.2222222222222222,
              "#7201a8"
             ],
             [
              0.3333333333333333,
              "#9c179e"
             ],
             [
              0.4444444444444444,
              "#bd3786"
             ],
             [
              0.5555555555555556,
              "#d8576b"
             ],
             [
              0.6666666666666666,
              "#ed7953"
             ],
             [
              0.7777777777777778,
              "#fb9f3a"
             ],
             [
              0.8888888888888888,
              "#fdca26"
             ],
             [
              1,
              "#f0f921"
             ]
            ],
            "type": "contour"
           }
          ],
          "contourcarpet": [
           {
            "colorbar": {
             "outlinewidth": 0,
             "ticks": ""
            },
            "type": "contourcarpet"
           }
          ],
          "heatmap": [
           {
            "colorbar": {
             "outlinewidth": 0,
             "ticks": ""
            },
            "colorscale": [
             [
              0,
              "#0d0887"
             ],
             [
              0.1111111111111111,
              "#46039f"
             ],
             [
              0.2222222222222222,
              "#7201a8"
             ],
             [
              0.3333333333333333,
              "#9c179e"
             ],
             [
              0.4444444444444444,
              "#bd3786"
             ],
             [
              0.5555555555555556,
              "#d8576b"
             ],
             [
              0.6666666666666666,
              "#ed7953"
             ],
             [
              0.7777777777777778,
              "#fb9f3a"
             ],
             [
              0.8888888888888888,
              "#fdca26"
             ],
             [
              1,
              "#f0f921"
             ]
            ],
            "type": "heatmap"
           }
          ],
          "heatmapgl": [
           {
            "colorbar": {
             "outlinewidth": 0,
             "ticks": ""
            },
            "colorscale": [
             [
              0,
              "#0d0887"
             ],
             [
              0.1111111111111111,
              "#46039f"
             ],
             [
              0.2222222222222222,
              "#7201a8"
             ],
             [
              0.3333333333333333,
              "#9c179e"
             ],
             [
              0.4444444444444444,
              "#bd3786"
             ],
             [
              0.5555555555555556,
              "#d8576b"
             ],
             [
              0.6666666666666666,
              "#ed7953"
             ],
             [
              0.7777777777777778,
              "#fb9f3a"
             ],
             [
              0.8888888888888888,
              "#fdca26"
             ],
             [
              1,
              "#f0f921"
             ]
            ],
            "type": "heatmapgl"
           }
          ],
          "histogram": [
           {
            "marker": {
             "pattern": {
              "fillmode": "overlay",
              "size": 10,
              "solidity": 0.2
             }
            },
            "type": "histogram"
           }
          ],
          "histogram2d": [
           {
            "colorbar": {
             "outlinewidth": 0,
             "ticks": ""
            },
            "colorscale": [
             [
              0,
              "#0d0887"
             ],
             [
              0.1111111111111111,
              "#46039f"
             ],
             [
              0.2222222222222222,
              "#7201a8"
             ],
             [
              0.3333333333333333,
              "#9c179e"
             ],
             [
              0.4444444444444444,
              "#bd3786"
             ],
             [
              0.5555555555555556,
              "#d8576b"
             ],
             [
              0.6666666666666666,
              "#ed7953"
             ],
             [
              0.7777777777777778,
              "#fb9f3a"
             ],
             [
              0.8888888888888888,
              "#fdca26"
             ],
             [
              1,
              "#f0f921"
             ]
            ],
            "type": "histogram2d"
           }
          ],
          "histogram2dcontour": [
           {
            "colorbar": {
             "outlinewidth": 0,
             "ticks": ""
            },
            "colorscale": [
             [
              0,
              "#0d0887"
             ],
             [
              0.1111111111111111,
              "#46039f"
             ],
             [
              0.2222222222222222,
              "#7201a8"
             ],
             [
              0.3333333333333333,
              "#9c179e"
             ],
             [
              0.4444444444444444,
              "#bd3786"
             ],
             [
              0.5555555555555556,
              "#d8576b"
             ],
             [
              0.6666666666666666,
              "#ed7953"
             ],
             [
              0.7777777777777778,
              "#fb9f3a"
             ],
             [
              0.8888888888888888,
              "#fdca26"
             ],
             [
              1,
              "#f0f921"
             ]
            ],
            "type": "histogram2dcontour"
           }
          ],
          "mesh3d": [
           {
            "colorbar": {
             "outlinewidth": 0,
             "ticks": ""
            },
            "type": "mesh3d"
           }
          ],
          "parcoords": [
           {
            "line": {
             "colorbar": {
              "outlinewidth": 0,
              "ticks": ""
             }
            },
            "type": "parcoords"
           }
          ],
          "pie": [
           {
            "automargin": true,
            "type": "pie"
           }
          ],
          "scatter": [
           {
            "fillpattern": {
             "fillmode": "overlay",
             "size": 10,
             "solidity": 0.2
            },
            "type": "scatter"
           }
          ],
          "scatter3d": [
           {
            "line": {
             "colorbar": {
              "outlinewidth": 0,
              "ticks": ""
             }
            },
            "marker": {
             "colorbar": {
              "outlinewidth": 0,
              "ticks": ""
             }
            },
            "type": "scatter3d"
           }
          ],
          "scattercarpet": [
           {
            "marker": {
             "colorbar": {
              "outlinewidth": 0,
              "ticks": ""
             }
            },
            "type": "scattercarpet"
           }
          ],
          "scattergeo": [
           {
            "marker": {
             "colorbar": {
              "outlinewidth": 0,
              "ticks": ""
             }
            },
            "type": "scattergeo"
           }
          ],
          "scattergl": [
           {
            "marker": {
             "colorbar": {
              "outlinewidth": 0,
              "ticks": ""
             }
            },
            "type": "scattergl"
           }
          ],
          "scattermapbox": [
           {
            "marker": {
             "colorbar": {
              "outlinewidth": 0,
              "ticks": ""
             }
            },
            "type": "scattermapbox"
           }
          ],
          "scatterpolar": [
           {
            "marker": {
             "colorbar": {
              "outlinewidth": 0,
              "ticks": ""
             }
            },
            "type": "scatterpolar"
           }
          ],
          "scatterpolargl": [
           {
            "marker": {
             "colorbar": {
              "outlinewidth": 0,
              "ticks": ""
             }
            },
            "type": "scatterpolargl"
           }
          ],
          "scatterternary": [
           {
            "marker": {
             "colorbar": {
              "outlinewidth": 0,
              "ticks": ""
             }
            },
            "type": "scatterternary"
           }
          ],
          "surface": [
           {
            "colorbar": {
             "outlinewidth": 0,
             "ticks": ""
            },
            "colorscale": [
             [
              0,
              "#0d0887"
             ],
             [
              0.1111111111111111,
              "#46039f"
             ],
             [
              0.2222222222222222,
              "#7201a8"
             ],
             [
              0.3333333333333333,
              "#9c179e"
             ],
             [
              0.4444444444444444,
              "#bd3786"
             ],
             [
              0.5555555555555556,
              "#d8576b"
             ],
             [
              0.6666666666666666,
              "#ed7953"
             ],
             [
              0.7777777777777778,
              "#fb9f3a"
             ],
             [
              0.8888888888888888,
              "#fdca26"
             ],
             [
              1,
              "#f0f921"
             ]
            ],
            "type": "surface"
           }
          ],
          "table": [
           {
            "cells": {
             "fill": {
              "color": "#EBF0F8"
             },
             "line": {
              "color": "white"
             }
            },
            "header": {
             "fill": {
              "color": "#C8D4E3"
             },
             "line": {
              "color": "white"
             }
            },
            "type": "table"
           }
          ]
         },
         "layout": {
          "annotationdefaults": {
           "arrowcolor": "#2a3f5f",
           "arrowhead": 0,
           "arrowwidth": 1
          },
          "autotypenumbers": "strict",
          "coloraxis": {
           "colorbar": {
            "outlinewidth": 0,
            "ticks": ""
           }
          },
          "colorscale": {
           "diverging": [
            [
             0,
             "#8e0152"
            ],
            [
             0.1,
             "#c51b7d"
            ],
            [
             0.2,
             "#de77ae"
            ],
            [
             0.3,
             "#f1b6da"
            ],
            [
             0.4,
             "#fde0ef"
            ],
            [
             0.5,
             "#f7f7f7"
            ],
            [
             0.6,
             "#e6f5d0"
            ],
            [
             0.7,
             "#b8e186"
            ],
            [
             0.8,
             "#7fbc41"
            ],
            [
             0.9,
             "#4d9221"
            ],
            [
             1,
             "#276419"
            ]
           ],
           "sequential": [
            [
             0,
             "#0d0887"
            ],
            [
             0.1111111111111111,
             "#46039f"
            ],
            [
             0.2222222222222222,
             "#7201a8"
            ],
            [
             0.3333333333333333,
             "#9c179e"
            ],
            [
             0.4444444444444444,
             "#bd3786"
            ],
            [
             0.5555555555555556,
             "#d8576b"
            ],
            [
             0.6666666666666666,
             "#ed7953"
            ],
            [
             0.7777777777777778,
             "#fb9f3a"
            ],
            [
             0.8888888888888888,
             "#fdca26"
            ],
            [
             1,
             "#f0f921"
            ]
           ],
           "sequentialminus": [
            [
             0,
             "#0d0887"
            ],
            [
             0.1111111111111111,
             "#46039f"
            ],
            [
             0.2222222222222222,
             "#7201a8"
            ],
            [
             0.3333333333333333,
             "#9c179e"
            ],
            [
             0.4444444444444444,
             "#bd3786"
            ],
            [
             0.5555555555555556,
             "#d8576b"
            ],
            [
             0.6666666666666666,
             "#ed7953"
            ],
            [
             0.7777777777777778,
             "#fb9f3a"
            ],
            [
             0.8888888888888888,
             "#fdca26"
            ],
            [
             1,
             "#f0f921"
            ]
           ]
          },
          "colorway": [
           "#636efa",
           "#EF553B",
           "#00cc96",
           "#ab63fa",
           "#FFA15A",
           "#19d3f3",
           "#FF6692",
           "#B6E880",
           "#FF97FF",
           "#FECB52"
          ],
          "font": {
           "color": "#2a3f5f"
          },
          "geo": {
           "bgcolor": "white",
           "lakecolor": "white",
           "landcolor": "#E5ECF6",
           "showlakes": true,
           "showland": true,
           "subunitcolor": "white"
          },
          "hoverlabel": {
           "align": "left"
          },
          "hovermode": "closest",
          "mapbox": {
           "style": "light"
          },
          "paper_bgcolor": "white",
          "plot_bgcolor": "#E5ECF6",
          "polar": {
           "angularaxis": {
            "gridcolor": "white",
            "linecolor": "white",
            "ticks": ""
           },
           "bgcolor": "#E5ECF6",
           "radialaxis": {
            "gridcolor": "white",
            "linecolor": "white",
            "ticks": ""
           }
          },
          "scene": {
           "xaxis": {
            "backgroundcolor": "#E5ECF6",
            "gridcolor": "white",
            "gridwidth": 2,
            "linecolor": "white",
            "showbackground": true,
            "ticks": "",
            "zerolinecolor": "white"
           },
           "yaxis": {
            "backgroundcolor": "#E5ECF6",
            "gridcolor": "white",
            "gridwidth": 2,
            "linecolor": "white",
            "showbackground": true,
            "ticks": "",
            "zerolinecolor": "white"
           },
           "zaxis": {
            "backgroundcolor": "#E5ECF6",
            "gridcolor": "white",
            "gridwidth": 2,
            "linecolor": "white",
            "showbackground": true,
            "ticks": "",
            "zerolinecolor": "white"
           }
          },
          "shapedefaults": {
           "line": {
            "color": "#2a3f5f"
           }
          },
          "ternary": {
           "aaxis": {
            "gridcolor": "white",
            "linecolor": "white",
            "ticks": ""
           },
           "baxis": {
            "gridcolor": "white",
            "linecolor": "white",
            "ticks": ""
           },
           "bgcolor": "#E5ECF6",
           "caxis": {
            "gridcolor": "white",
            "linecolor": "white",
            "ticks": ""
           }
          },
          "title": {
           "x": 0.05
          },
          "xaxis": {
           "automargin": true,
           "gridcolor": "white",
           "linecolor": "white",
           "ticks": "",
           "title": {
            "standoff": 15
           },
           "zerolinecolor": "white",
           "zerolinewidth": 2
          },
          "yaxis": {
           "automargin": true,
           "gridcolor": "white",
           "linecolor": "white",
           "ticks": "",
           "title": {
            "standoff": 15
           },
           "zerolinecolor": "white",
           "zerolinewidth": 2
          }
         }
        },
        "title": {
         "text": "Frequency of Calls Per Ten Minutes (Friday to Sunday)"
        },
        "width": 800,
        "xaxis": {
         "anchor": "y",
         "domain": [
          0,
          1
         ],
         "title": {
          "text": "Time"
         }
        },
        "xaxis2": {
         "anchor": "y2",
         "domain": [
          0,
          1
         ],
         "title": {
          "text": "Time"
         }
        },
        "xaxis3": {
         "anchor": "y3",
         "domain": [
          0,
          1
         ],
         "title": {
          "text": "Time"
         }
        },
        "xaxis4": {
         "anchor": "y4",
         "domain": [
          0,
          1
         ],
         "title": {
          "text": "Time"
         }
        },
        "xaxis5": {
         "anchor": "y5",
         "domain": [
          0,
          1
         ],
         "title": {
          "text": "Time"
         }
        },
        "yaxis": {
         "anchor": "x",
         "domain": [
          0.88,
          1
         ],
         "range": [
          0,
          3000
         ],
         "title": {
          "text": "Number of Calls"
         }
        },
        "yaxis2": {
         "anchor": "x2",
         "domain": [
          0.66,
          0.78
         ],
         "range": [
          0,
          3000
         ],
         "title": {
          "text": "Number of Calls"
         }
        },
        "yaxis3": {
         "anchor": "x3",
         "domain": [
          0.44,
          0.56
         ],
         "range": [
          0,
          3000
         ],
         "title": {
          "text": "Number of Calls"
         }
        },
        "yaxis4": {
         "anchor": "x4",
         "domain": [
          0.22,
          0.33999999999999997
         ],
         "range": [
          0,
          3000
         ],
         "title": {
          "text": "Number of Calls"
         }
        },
        "yaxis5": {
         "anchor": "x5",
         "domain": [
          0,
          0.12
         ],
         "range": [
          0,
          3000
         ],
         "title": {
          "text": "Number of Calls"
         }
        }
       }
      }
     },
     "metadata": {},
     "output_type": "display_data"
    }
   ],
   "source": [
    "fig = make_subplots(rows=5, cols=1, subplot_titles=[\"Entry Corridor\", \"Tundra Land\", \"Kiddie Land\", \"Wet Land\", \"Coaster Alley\"])\n",
    "\n",
    "# EC plot (First row)\n",
    "fig.add_trace(\n",
    "    go.Scatter(x=comm_EC_noon_df['min'], \n",
    "               y=comm_EC_noon_df['Calls'], \n",
    "               mode='lines', name='Entry Corridor',\n",
    "               fill='tozeroy',),\n",
    "    row=1, col=1\n",
    ")\n",
    "\n",
    "# TL plot (Second row)\n",
    "fig.add_trace(\n",
    "    go.Scatter(x=comm_TL_noon_df['min'], \n",
    "               y=comm_TL_noon_df['Calls'], \n",
    "               mode='lines', name='Tundra Land',\n",
    "               fill ='tozeroy',),\n",
    "    row=2, col=1\n",
    ")\n",
    "\n",
    "# KL plot (Third row)\n",
    "fig.add_trace(\n",
    "    go.Scatter(x=comm_KL_noon_df['min'], \n",
    "               y=comm_KL_noon_df['Calls'], \n",
    "               mode='lines', name='Kiddie Land', \n",
    "               fill='tozeroy',),\n",
    "    row=3, col=1\n",
    ")\n",
    "\n",
    "# WL plot (Fourth row)\n",
    "fig.add_trace(\n",
    "    go.Scatter(x=comm_WL_noon_df['min'], \n",
    "               y=comm_WL_noon_df['Calls'], \n",
    "               mode='lines', name='Kiddie Land', \n",
    "               fill='tozeroy',),\n",
    "    row=4, col=1\n",
    ")\n",
    "\n",
    "# CA plot (Fifth row)\n",
    "fig.add_trace(\n",
    "    go.Scatter(x=comm_WL_noon_df['min'], \n",
    "               y=comm_WL_noon_df['Calls'], \n",
    "               mode='lines', name='Coaster Alley', \n",
    "               fill='tozeroy',),\n",
    "    row=5, col=1\n",
    ")\n",
    "\n",
    "fig.update_layout(\n",
    "    height=900, width=800, \n",
    "    title_text=\"Frequency of Calls Per Ten Minutes (Friday to Sunday)\", \n",
    "\n",
    "    # Set y-axis ranges for each subplot\n",
    "    yaxis=dict(range=[0, 3000], title='Number of Calls'),\n",
    "    yaxis2=dict(range=[0, 3000], title='Number of Calls'),\n",
    "    yaxis3=dict(range=[0, 3000], title='Number of Calls'),\n",
    "    yaxis4=dict(range=[0, 3000], title='Number of Calls'),\n",
    "    yaxis5=dict(range=[0, 3000], title='Number of Calls'),\n",
    "\n",
    "\n",
    "    xaxis=dict(title='Time'),\n",
    "    xaxis2=dict(title='Time'),\n",
    "    xaxis3=dict(title='Time'),\n",
    "    xaxis4=dict(title='Time'),\n",
    "    xaxis5=dict(title='Time')\n",
    "\n",
    ")\n",
    "\n",
    "# Display the figure\n",
    "fig.show()"
   ]
  }
 ],
 "metadata": {
  "kernelspec": {
   "display_name": "Python 3.9.6 64-bit",
   "language": "python",
   "name": "python3"
  },
  "language_info": {
   "codemirror_mode": {
    "name": "ipython",
    "version": 3
   },
   "file_extension": ".py",
   "mimetype": "text/x-python",
   "name": "python",
   "nbconvert_exporter": "python",
   "pygments_lexer": "ipython3",
   "version": "3.9.6"
  },
  "orig_nbformat": 4,
  "vscode": {
   "interpreter": {
    "hash": "31f2aee4e71d21fbe5cf8b01ff0e069b9275f58929596ceb00d14d90e3e16cd6"
   }
  }
 },
 "nbformat": 4,
 "nbformat_minor": 2
}
