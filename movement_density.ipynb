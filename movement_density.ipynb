{
 "cells": [
  {
   "cell_type": "code",
   "execution_count": 30,
   "metadata": {},
   "outputs": [],
   "source": [
    "import pandas as pd\n",
    "import numpy as np\n",
    "import csv\n",
    "from datetime import datetime, timedelta\n",
    "import math\n",
    "import plotly.express as px\n",
    "import plotly.graph_objects as go\n"
   ]
  },
  {
   "cell_type": "code",
   "execution_count": 34,
   "metadata": {},
   "outputs": [],
   "source": [
    "time_format = \"%Y-%m-%d %H:%M:%S\"\n",
    "open_timestamp = datetime.strptime('2014-6-08 08:00:00', time_format)"
   ]
  },
  {
   "cell_type": "code",
   "execution_count": 4,
   "metadata": {},
   "outputs": [],
   "source": [
    "# import all of the sunday movement data\n",
    "moves_sun_df_all  = pd.read_csv('hw02-data/Movement Data/park-movement-Sun.csv', skiprows=[4332993,10932426,10932427],dtype={'Timestamp': object, 'id': int, 'type': str, 'X': int, 'Y': int})"
   ]
  },
  {
   "cell_type": "code",
   "execution_count": 5,
   "metadata": {},
   "outputs": [],
   "source": [
    "# sort the movement data by time, and then by ID\n",
    "moves_sun_df_all = moves_sun_df_all.sort_values(by=['id', 'Timestamp'], ascending=[True, True])"
   ]
  },
  {
   "cell_type": "code",
   "execution_count": 12,
   "metadata": {},
   "outputs": [
    {
     "data": {
      "text/html": [
       "<div>\n",
       "<style scoped>\n",
       "    .dataframe tbody tr th:only-of-type {\n",
       "        vertical-align: middle;\n",
       "    }\n",
       "\n",
       "    .dataframe tbody tr th {\n",
       "        vertical-align: top;\n",
       "    }\n",
       "\n",
       "    .dataframe thead th {\n",
       "        text-align: right;\n",
       "    }\n",
       "</style>\n",
       "<table border=\"1\" class=\"dataframe\">\n",
       "  <thead>\n",
       "    <tr style=\"text-align: right;\">\n",
       "      <th></th>\n",
       "      <th>Timestamp</th>\n",
       "      <th>id</th>\n",
       "      <th>type</th>\n",
       "      <th>X</th>\n",
       "      <th>Y</th>\n",
       "    </tr>\n",
       "  </thead>\n",
       "  <tbody>\n",
       "    <tr>\n",
       "      <th>1371356</th>\n",
       "      <td>2014-6-08 09:48:51</td>\n",
       "      <td>436</td>\n",
       "      <td>check-in</td>\n",
       "      <td>0</td>\n",
       "      <td>67</td>\n",
       "    </tr>\n",
       "    <tr>\n",
       "      <th>1386465</th>\n",
       "      <td>2014-6-08 09:49:50</td>\n",
       "      <td>436</td>\n",
       "      <td>movement</td>\n",
       "      <td>1</td>\n",
       "      <td>66</td>\n",
       "    </tr>\n",
       "    <tr>\n",
       "      <th>1388526</th>\n",
       "      <td>2014-6-08 09:49:58</td>\n",
       "      <td>436</td>\n",
       "      <td>movement</td>\n",
       "      <td>2</td>\n",
       "      <td>66</td>\n",
       "    </tr>\n",
       "    <tr>\n",
       "      <th>1390535</th>\n",
       "      <td>2014-6-08 09:50:06</td>\n",
       "      <td>436</td>\n",
       "      <td>movement</td>\n",
       "      <td>3</td>\n",
       "      <td>66</td>\n",
       "    </tr>\n",
       "    <tr>\n",
       "      <th>1392401</th>\n",
       "      <td>2014-6-08 09:50:14</td>\n",
       "      <td>436</td>\n",
       "      <td>movement</td>\n",
       "      <td>4</td>\n",
       "      <td>66</td>\n",
       "    </tr>\n",
       "  </tbody>\n",
       "</table>\n",
       "</div>"
      ],
      "text/plain": [
       "                  Timestamp   id      type  X   Y\n",
       "1371356  2014-6-08 09:48:51  436  check-in  0  67\n",
       "1386465  2014-6-08 09:49:50  436  movement  1  66\n",
       "1388526  2014-6-08 09:49:58  436  movement  2  66\n",
       "1390535  2014-6-08 09:50:06  436  movement  3  66\n",
       "1392401  2014-6-08 09:50:14  436  movement  4  66"
      ]
     },
     "execution_count": 12,
     "metadata": {},
     "output_type": "execute_result"
    }
   ],
   "source": [
    "moves_sun_df_all.head()"
   ]
  },
  {
   "cell_type": "code",
   "execution_count": 6,
   "metadata": {},
   "outputs": [],
   "source": [
    "moves_sun_df_all.to_csv('hw02-data/Movement Data/park-movement-Sun-sorted.csv', sep=',')"
   ]
  },
  {
   "cell_type": "code",
   "execution_count": 31,
   "metadata": {},
   "outputs": [],
   "source": [
    "# computes the index given the time stamp for the data structure we're building\n",
    "def get_index(timestamp,num_min_per_interval):\n",
    "    delta = timestamp - open_timestamp\n",
    "    index = math.floor(delta.total_seconds()/60/num_min_per_interval)\n",
    "    return index"
   ]
  },
  {
   "cell_type": "code",
   "execution_count": 35,
   "metadata": {},
   "outputs": [],
   "source": [
    "def get_time(index, num_min_per_interval):\n",
    "    delta = timedelta(minutes = index * num_min_per_interval)\n",
    "    return open_timestamp + delta"
   ]
  },
  {
   "cell_type": "code",
   "execution_count": 44,
   "metadata": {},
   "outputs": [
    {
     "data": {
      "text/plain": [
       "datetime.datetime(2014, 6, 8, 23, 55)"
      ]
     },
     "execution_count": 44,
     "metadata": {},
     "output_type": "execute_result"
    }
   ],
   "source": [
    "get_time(191, 5)"
   ]
  },
  {
   "cell_type": "code",
   "execution_count": 60,
   "metadata": {},
   "outputs": [
    {
     "data": {
      "text/plain": [
       "191"
      ]
     },
     "execution_count": 60,
     "metadata": {},
     "output_type": "execute_result"
    }
   ],
   "source": [
    "get_index(datetime.strptime('2014-6-08 23:56:59', time_format), 5)"
   ]
  },
  {
   "cell_type": "code",
   "execution_count": 8,
   "metadata": {},
   "outputs": [
    {
     "data": {
      "text/plain": [
       "np.int64(436)"
      ]
     },
     "execution_count": 8,
     "metadata": {},
     "output_type": "execute_result"
    }
   ],
   "source": [
    "num_minutes = 16*60 # 16 hours, from 8am to midnight\n",
    "n = 5 # 5 minutes per interval\n",
    "n_slots = int(num_minutes / n) # number of intervals the data is broken into, to become the number of entries in each array\n",
    "places = np.zeros((100,100,n_slots))\n",
    "time_index = 0\n",
    "prev = False\n",
    "person = moves_sun_df_all[\"id\"].iloc[0]\n",
    "person"
   ]
  },
  {
   "cell_type": "code",
   "execution_count": 65,
   "metadata": {},
   "outputs": [],
   "source": [
    "# build the data structure (places)\n",
    "with open('hw02-data/Movement Data/park-movement-Sun-sorted.csv') as f:\n",
    "    reader = csv.reader(f)\n",
    "    next(reader, None) # skip the header\n",
    "\n",
    "    # row = [old line number, Timestamp,id,type,X,Y]\n",
    "    for row in reader:\n",
    "        row_timestamp = datetime.strptime(row[1], time_format)\n",
    "        row_id = row[2]\n",
    "        row_x = int(row[4])\n",
    "        row_y = int(row[5])\n",
    "        if row_id != person:\n",
    "            person = row_id\n",
    "            prev = False\n",
    "            time_index=0\n",
    "        if time_index == 0:\n",
    "            time_index = get_index(row_timestamp,n)\n",
    "        if get_index(row_timestamp, n) == time_index:\n",
    "            places[row_x,row_y,time_index] += 1\n",
    "            prev = (row_x,row_y)\n",
    "            continue\n",
    "        if get_index(row_timestamp, n) == time_index + 1:\n",
    "            time_index += 1\n",
    "            places[row_x,row_y,time_index] += 1\n",
    "            prev = (row_x,row_y)\n",
    "            continue\n",
    "        places[prev[0],prev[1],time_index:get_index(row_timestamp,n)]\n",
    "        time_index = get_index(row_timestamp,n)\n",
    "        places[row_x,row_y,time_index] += 1\n",
    "        prev = (row_x,row_y)"
   ]
  },
  {
   "cell_type": "code",
   "execution_count": 66,
   "metadata": {},
   "outputs": [
    {
     "name": "stdout",
     "output_type": "stream",
     "text": [
      "1736.0\n"
     ]
    }
   ],
   "source": [
    "max = places.ravel().max()\n",
    "print(max)\n"
   ]
  },
  {
   "cell_type": "code",
   "execution_count": 76,
   "metadata": {},
   "outputs": [],
   "source": [
    "places = np.log10(places+1)"
   ]
  },
  {
   "cell_type": "code",
   "execution_count": null,
   "metadata": {},
   "outputs": [],
   "source": [
    "# slider code from https://plotly.com/python/sliders/\n",
    "max = places.ravel().max()\n",
    "nx, ny = (100,100)\n",
    "\n",
    "\n",
    "fig2 = go.Figure()\n",
    "for step in np.arange(0, 191, 1):\n",
    "    grid = places[:,:,step]\n",
    "    x = np.linspace(1, 100, nx)\n",
    "    y = np.linspace(1, 100, ny)\n",
    "    xv, yv = np.meshgrid(x, y)\n",
    "    density = grid.ravel()\n",
    "    xv = xv.ravel()\n",
    "    yv = yv.ravel()\n",
    "    fig2.add_trace(\n",
    "        go.Scatter(\n",
    "            visible=False,\n",
    "            x = yv,\n",
    "            y = xv,\n",
    "            mode='markers',\n",
    "            marker=dict(\n",
    "                size=4,\n",
    "                color = density, #set color equal to a variable\n",
    "                colorscale='Hot_r',\n",
    "                showscale=True,\n",
    "                cmax=places.ravel().max(),\n",
    "                cmin=0\n",
    "            )\n",
    "            \n",
    "        )\n",
    "    )\n",
    "fig2.update_layout(\n",
    "    height=int(750),\n",
    "    width=int(800)\n",
    ")\n",
    "fig2.update_yaxes(\n",
    "    scaleanchor=\"x\",\n",
    "    scaleratio=1,\n",
    ")\n",
    "\n",
    "\n",
    "# create and add slider\n",
    "steps = []\n",
    "for i in range(len(fig2.data)):\n",
    "    time = datetime.strftime(get_time(i, n), time_format)\n",
    "    step = dict(\n",
    "        method=\"update\",\n",
    "        args=[{\"visible\": [False] * len(fig2.data)},\n",
    "              {\"title\": \"Movement density at time: \" + time}],\n",
    "        label = time[11:-3]\n",
    "    )\n",
    "    step[\"args\"][0][\"visible\"][i] = True\n",
    "    steps.append(step)\n",
    "\n",
    "sliders = [dict(\n",
    "    active=10,\n",
    "    currentvalue={\"prefix\": \"Time of day: \"},\n",
    "    pad={\"t\": 50},\n",
    "    steps=steps\n",
    ")]\n",
    "fig2.update_layout(\n",
    "    sliders=sliders,\n",
    "    plot_bgcolor='white',\n",
    "    coloraxis_colorbar=dict(\n",
    "        title=\"#People\",\n",
    "        tickvals=[1,2,3,4],\n",
    "        ticktext=[\"1\", \"10\", \"100\", \"1000\"],\n",
    "        \n",
    "    )\n",
    "        \n",
    ")\n",
    "\n",
    "fig2.show()\n",
    "# fig.show()"
   ]
  }
 ],
 "metadata": {
  "kernelspec": {
   "display_name": "csc235env",
   "language": "python",
   "name": "python3"
  },
  "language_info": {
   "codemirror_mode": {
    "name": "ipython",
    "version": 3
   },
   "file_extension": ".py",
   "mimetype": "text/x-python",
   "name": "python",
   "nbconvert_exporter": "python",
   "pygments_lexer": "ipython3",
   "version": "3.10.9"
  }
 },
 "nbformat": 4,
 "nbformat_minor": 2
}
