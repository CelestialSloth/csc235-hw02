{
 "cells": [
  {
   "cell_type": "code",
   "execution_count": 7,
   "metadata": {},
   "outputs": [],
   "source": [
    "import plotly.express as px\n",
    "import pandas as pd\n",
    "import plotly.graph_objects as go"
   ]
  },
  {
   "cell_type": "code",
   "execution_count": null,
   "metadata": {},
   "outputs": [],
   "source": [
    "movement_fri_df = pandas.read_csv('hw02-data/Movement Data/park-movement-Fri.csv', parse_dates=['Timestamp'])\n",
    "movement_sun_df = pandas.read_csv('hw02-data/Movement Data/park-movement-Sun.csv', parse_dates=['Timestamp'])\n"
   ]
  },
  {
   "cell_type": "code",
   "execution_count": null,
   "metadata": {},
   "outputs": [],
   "source": [
    "movement_fri_df.head()\n",
    "filtered = movement_fri_df[(movement_fri_df['Timestamp'] > '2014-06-06 12:10:00') & (movement_fri_df['Timestamp'] < '2014-06-06 12:15:00')]\n",
    "filteredSun = movement_fri_df[(movement_sun_df['Timestamp'] > '2014-08-06 12:00:00') & (movement_fri_df['Timestamp'] < '2014-08-06 12:05:00')]"
   ]
  },
  {
   "cell_type": "code",
   "execution_count": null,
   "metadata": {},
   "outputs": [],
   "source": [
    "fig = px.scatter(filteredSun, x = \"X\", y = \"Y\", opacity=0.005)\n",
    "fig.show()"
   ]
  }
 ],
 "metadata": {
  "kernelspec": {
   "display_name": "csc235env",
   "language": "python",
   "name": "python3"
  },
  "language_info": {
   "codemirror_mode": {
    "name": "ipython",
    "version": 3
   },
   "file_extension": ".py",
   "mimetype": "text/x-python",
   "name": "python",
   "nbconvert_exporter": "python",
   "pygments_lexer": "ipython3",
   "version": "3.10.9"
  }
 },
 "nbformat": 4,
 "nbformat_minor": 2
}
