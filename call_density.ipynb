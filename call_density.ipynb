{
 "cells": [
  {
   "cell_type": "code",
   "execution_count": 2,
   "metadata": {},
   "outputs": [],
   "source": [
    "import plotly.express as px, pandas as pd\n",
    "import plotly.graph_objects as go\n",
    "from plotly.subplots import make_subplots\n"
   ]
  },
  {
   "cell_type": "code",
   "execution_count": 5,
   "metadata": {},
   "outputs": [
    {
     "data": {
      "text/html": [
       "<div>\n",
       "<style scoped>\n",
       "    .dataframe tbody tr th:only-of-type {\n",
       "        vertical-align: middle;\n",
       "    }\n",
       "\n",
       "    .dataframe tbody tr th {\n",
       "        vertical-align: top;\n",
       "    }\n",
       "\n",
       "    .dataframe thead th {\n",
       "        text-align: right;\n",
       "    }\n",
       "</style>\n",
       "<table border=\"1\" class=\"dataframe\">\n",
       "  <thead>\n",
       "    <tr style=\"text-align: right;\">\n",
       "      <th></th>\n",
       "      <th>ten_min</th>\n",
       "      <th>Calls</th>\n",
       "    </tr>\n",
       "  </thead>\n",
       "  <tbody>\n",
       "    <tr>\n",
       "      <th>0</th>\n",
       "      <td>2014-06-06 08:10:00</td>\n",
       "      <td>10</td>\n",
       "    </tr>\n",
       "    <tr>\n",
       "      <th>1</th>\n",
       "      <td>2014-06-06 08:20:00</td>\n",
       "      <td>25</td>\n",
       "    </tr>\n",
       "    <tr>\n",
       "      <th>2</th>\n",
       "      <td>2014-06-06 08:30:00</td>\n",
       "      <td>47</td>\n",
       "    </tr>\n",
       "    <tr>\n",
       "      <th>3</th>\n",
       "      <td>2014-06-06 08:40:00</td>\n",
       "      <td>83</td>\n",
       "    </tr>\n",
       "    <tr>\n",
       "      <th>4</th>\n",
       "      <td>2014-06-06 08:50:00</td>\n",
       "      <td>109</td>\n",
       "    </tr>\n",
       "  </tbody>\n",
       "</table>\n",
       "</div>"
      ],
      "text/plain": [
       "              ten_min  Calls\n",
       "0 2014-06-06 08:10:00     10\n",
       "1 2014-06-06 08:20:00     25\n",
       "2 2014-06-06 08:30:00     47\n",
       "3 2014-06-06 08:40:00     83\n",
       "4 2014-06-06 08:50:00    109"
      ]
     },
     "execution_count": 5,
     "metadata": {},
     "output_type": "execute_result"
    }
   ],
   "source": [
    "#Friday df with amount of calls per 5min intervals\n",
    "comm_fri_df = pd.read_csv('hw02-data/Communication Data/comm-data-Fri.csv').query('to == \"839736\"')\n",
    "comm_fri_df['Timestamp'] = pd.to_datetime(comm_fri_df['Timestamp'])\n",
    "comm_fri_df['ten_min'] = comm_fri_df['Timestamp'].dt.round('10min')\n",
    "frequency_comm_fri_df = comm_fri_df.groupby('ten_min').size().reset_index(name='Calls')\n",
    "frequency_comm_fri_df.head()\n"
   ]
  },
  {
   "cell_type": "code",
   "execution_count": 7,
   "metadata": {},
   "outputs": [
    {
     "data": {
      "text/html": [
       "<div>\n",
       "<style scoped>\n",
       "    .dataframe tbody tr th:only-of-type {\n",
       "        vertical-align: middle;\n",
       "    }\n",
       "\n",
       "    .dataframe tbody tr th {\n",
       "        vertical-align: top;\n",
       "    }\n",
       "\n",
       "    .dataframe thead th {\n",
       "        text-align: right;\n",
       "    }\n",
       "</style>\n",
       "<table border=\"1\" class=\"dataframe\">\n",
       "  <thead>\n",
       "    <tr style=\"text-align: right;\">\n",
       "      <th></th>\n",
       "      <th>ten_min</th>\n",
       "      <th>Calls</th>\n",
       "    </tr>\n",
       "  </thead>\n",
       "  <tbody>\n",
       "    <tr>\n",
       "      <th>0</th>\n",
       "      <td>2014-06-07 08:00:00</td>\n",
       "      <td>2</td>\n",
       "    </tr>\n",
       "    <tr>\n",
       "      <th>1</th>\n",
       "      <td>2014-06-07 08:10:00</td>\n",
       "      <td>18</td>\n",
       "    </tr>\n",
       "    <tr>\n",
       "      <th>2</th>\n",
       "      <td>2014-06-07 08:20:00</td>\n",
       "      <td>40</td>\n",
       "    </tr>\n",
       "    <tr>\n",
       "      <th>3</th>\n",
       "      <td>2014-06-07 08:30:00</td>\n",
       "      <td>62</td>\n",
       "    </tr>\n",
       "    <tr>\n",
       "      <th>4</th>\n",
       "      <td>2014-06-07 08:40:00</td>\n",
       "      <td>72</td>\n",
       "    </tr>\n",
       "  </tbody>\n",
       "</table>\n",
       "</div>"
      ],
      "text/plain": [
       "              ten_min  Calls\n",
       "0 2014-06-07 08:00:00      2\n",
       "1 2014-06-07 08:10:00     18\n",
       "2 2014-06-07 08:20:00     40\n",
       "3 2014-06-07 08:30:00     62\n",
       "4 2014-06-07 08:40:00     72"
      ]
     },
     "execution_count": 7,
     "metadata": {},
     "output_type": "execute_result"
    }
   ],
   "source": [
    "#Saturday df with amount of calls per 5min intervals\n",
    "comm_sat_df = pd.read_csv('hw02-data/Communication Data/comm-data-Sat.csv').query('to == \"839736\"')\n",
    "comm_sat_df['Timestamp'] = pd.to_datetime(comm_sat_df['Timestamp'])\n",
    "comm_sat_df['ten_min'] = comm_sat_df['Timestamp'].dt.round('10min')\n",
    "frequency_comm_sat_df = comm_sat_df.groupby('ten_min').size().reset_index(name='Calls')\n",
    "frequency_comm_sat_df.head()"
   ]
  },
  {
   "cell_type": "code",
   "execution_count": 8,
   "metadata": {},
   "outputs": [
    {
     "data": {
      "text/html": [
       "<div>\n",
       "<style scoped>\n",
       "    .dataframe tbody tr th:only-of-type {\n",
       "        vertical-align: middle;\n",
       "    }\n",
       "\n",
       "    .dataframe tbody tr th {\n",
       "        vertical-align: top;\n",
       "    }\n",
       "\n",
       "    .dataframe thead th {\n",
       "        text-align: right;\n",
       "    }\n",
       "</style>\n",
       "<table border=\"1\" class=\"dataframe\">\n",
       "  <thead>\n",
       "    <tr style=\"text-align: right;\">\n",
       "      <th></th>\n",
       "      <th>ten_min</th>\n",
       "      <th>Calls</th>\n",
       "    </tr>\n",
       "  </thead>\n",
       "  <tbody>\n",
       "    <tr>\n",
       "      <th>0</th>\n",
       "      <td>2014-06-08 08:00:00</td>\n",
       "      <td>6</td>\n",
       "    </tr>\n",
       "    <tr>\n",
       "      <th>1</th>\n",
       "      <td>2014-06-08 08:10:00</td>\n",
       "      <td>27</td>\n",
       "    </tr>\n",
       "    <tr>\n",
       "      <th>2</th>\n",
       "      <td>2014-06-08 08:20:00</td>\n",
       "      <td>46</td>\n",
       "    </tr>\n",
       "    <tr>\n",
       "      <th>3</th>\n",
       "      <td>2014-06-08 08:30:00</td>\n",
       "      <td>73</td>\n",
       "    </tr>\n",
       "    <tr>\n",
       "      <th>4</th>\n",
       "      <td>2014-06-08 08:40:00</td>\n",
       "      <td>96</td>\n",
       "    </tr>\n",
       "  </tbody>\n",
       "</table>\n",
       "</div>"
      ],
      "text/plain": [
       "              ten_min  Calls\n",
       "0 2014-06-08 08:00:00      6\n",
       "1 2014-06-08 08:10:00     27\n",
       "2 2014-06-08 08:20:00     46\n",
       "3 2014-06-08 08:30:00     73\n",
       "4 2014-06-08 08:40:00     96"
      ]
     },
     "execution_count": 8,
     "metadata": {},
     "output_type": "execute_result"
    }
   ],
   "source": [
    "#Sunday df with amount of calls per 5min intervals\n",
    "comm_sun_df = pd.read_csv('hw02-data/Communication Data/comm-data-Sun.csv').query('to == \"839736\"')\n",
    "comm_sun_df['Timestamp'] = pd.to_datetime(comm_sun_df['Timestamp'])\n",
    "comm_sun_df['ten_min'] = comm_sun_df['Timestamp'].dt.round('10min')\n",
    "frequency_comm_sun_df = comm_sun_df.groupby('ten_min').size().reset_index(name='Calls')\n",
    "frequency_comm_sun_df.head()"
   ]
  },
  {
   "cell_type": "code",
   "execution_count": 10,
   "metadata": {},
   "outputs": [
    {
     "data": {
      "application/vnd.plotly.v1+json": {
       "config": {
        "plotlyServerURL": "https://plot.ly"
       },
       "data": [
        {
         "fill": "tozeroy",
         "mode": "lines",
         "name": "Friday",
         "type": "scatter",
         "x": [
          "2014-06-06T08:10:00",
          "2014-06-06T08:20:00",
          "2014-06-06T08:30:00",
          "2014-06-06T08:40:00",
          "2014-06-06T08:50:00",
          "2014-06-06T09:00:00",
          "2014-06-06T09:10:00",
          "2014-06-06T09:20:00",
          "2014-06-06T09:30:00",
          "2014-06-06T09:40:00",
          "2014-06-06T09:50:00",
          "2014-06-06T10:00:00",
          "2014-06-06T10:10:00",
          "2014-06-06T10:20:00",
          "2014-06-06T10:30:00",
          "2014-06-06T10:40:00",
          "2014-06-06T10:50:00",
          "2014-06-06T11:00:00",
          "2014-06-06T11:10:00",
          "2014-06-06T11:20:00",
          "2014-06-06T11:30:00",
          "2014-06-06T11:40:00",
          "2014-06-06T11:50:00",
          "2014-06-06T12:00:00",
          "2014-06-06T12:10:00",
          "2014-06-06T12:20:00",
          "2014-06-06T12:30:00",
          "2014-06-06T12:40:00",
          "2014-06-06T12:50:00",
          "2014-06-06T13:00:00",
          "2014-06-06T13:10:00",
          "2014-06-06T13:20:00",
          "2014-06-06T13:30:00",
          "2014-06-06T13:40:00",
          "2014-06-06T13:50:00",
          "2014-06-06T14:00:00",
          "2014-06-06T14:10:00",
          "2014-06-06T14:20:00",
          "2014-06-06T14:30:00",
          "2014-06-06T14:40:00",
          "2014-06-06T14:50:00",
          "2014-06-06T15:00:00",
          "2014-06-06T15:10:00",
          "2014-06-06T15:20:00",
          "2014-06-06T15:30:00",
          "2014-06-06T15:40:00",
          "2014-06-06T15:50:00",
          "2014-06-06T16:00:00",
          "2014-06-06T16:10:00",
          "2014-06-06T16:20:00",
          "2014-06-06T16:30:00",
          "2014-06-06T16:40:00",
          "2014-06-06T16:50:00",
          "2014-06-06T17:00:00",
          "2014-06-06T17:10:00",
          "2014-06-06T17:20:00",
          "2014-06-06T17:30:00",
          "2014-06-06T17:40:00",
          "2014-06-06T17:50:00",
          "2014-06-06T18:00:00",
          "2014-06-06T18:10:00",
          "2014-06-06T18:20:00",
          "2014-06-06T18:30:00",
          "2014-06-06T18:40:00",
          "2014-06-06T18:50:00",
          "2014-06-06T19:00:00",
          "2014-06-06T19:10:00",
          "2014-06-06T19:20:00",
          "2014-06-06T19:30:00",
          "2014-06-06T19:40:00",
          "2014-06-06T19:50:00",
          "2014-06-06T20:00:00",
          "2014-06-06T20:10:00",
          "2014-06-06T20:20:00",
          "2014-06-06T20:30:00",
          "2014-06-06T20:40:00",
          "2014-06-06T20:50:00",
          "2014-06-06T21:00:00",
          "2014-06-06T21:10:00",
          "2014-06-06T21:20:00",
          "2014-06-06T21:30:00",
          "2014-06-06T21:40:00",
          "2014-06-06T21:50:00",
          "2014-06-06T22:00:00",
          "2014-06-06T22:10:00",
          "2014-06-06T22:20:00",
          "2014-06-06T22:30:00",
          "2014-06-06T22:40:00",
          "2014-06-06T22:50:00",
          "2014-06-06T23:00:00",
          "2014-06-06T23:10:00",
          "2014-06-06T23:20:00"
         ],
         "xaxis": "x",
         "y": [
          10,
          25,
          47,
          83,
          109,
          102,
          63,
          65,
          72,
          66,
          52,
          70,
          68,
          71,
          56,
          72,
          53,
          69,
          61,
          68,
          63,
          76,
          82,
          76,
          75,
          73,
          71,
          75,
          61,
          87,
          62,
          78,
          86,
          79,
          81,
          64,
          69,
          83,
          85,
          64,
          56,
          59,
          56,
          53,
          65,
          76,
          63,
          75,
          81,
          92,
          73,
          82,
          70,
          78,
          64,
          84,
          64,
          87,
          71,
          83,
          90,
          71,
          82,
          85,
          67,
          85,
          98,
          91,
          78,
          80,
          86,
          56,
          69,
          70,
          58,
          67,
          56,
          62,
          51,
          50,
          54,
          33,
          34,
          35,
          31,
          20,
          13,
          14,
          9,
          12,
          1,
          2
         ],
         "yaxis": "y"
        },
        {
         "fill": "tozeroy",
         "mode": "lines",
         "name": "Saturday",
         "type": "scatter",
         "x": [
          "2014-06-07T08:00:00",
          "2014-06-07T08:10:00",
          "2014-06-07T08:20:00",
          "2014-06-07T08:30:00",
          "2014-06-07T08:40:00",
          "2014-06-07T08:50:00",
          "2014-06-07T09:00:00",
          "2014-06-07T09:10:00",
          "2014-06-07T09:20:00",
          "2014-06-07T09:30:00",
          "2014-06-07T09:40:00",
          "2014-06-07T09:50:00",
          "2014-06-07T10:00:00",
          "2014-06-07T10:10:00",
          "2014-06-07T10:20:00",
          "2014-06-07T10:30:00",
          "2014-06-07T10:40:00",
          "2014-06-07T10:50:00",
          "2014-06-07T11:00:00",
          "2014-06-07T11:10:00",
          "2014-06-07T11:20:00",
          "2014-06-07T11:30:00",
          "2014-06-07T11:40:00",
          "2014-06-07T11:50:00",
          "2014-06-07T12:00:00",
          "2014-06-07T12:10:00",
          "2014-06-07T12:20:00",
          "2014-06-07T12:30:00",
          "2014-06-07T12:40:00",
          "2014-06-07T12:50:00",
          "2014-06-07T13:00:00",
          "2014-06-07T13:10:00",
          "2014-06-07T13:20:00",
          "2014-06-07T13:30:00",
          "2014-06-07T13:40:00",
          "2014-06-07T13:50:00",
          "2014-06-07T14:00:00",
          "2014-06-07T14:10:00",
          "2014-06-07T14:20:00",
          "2014-06-07T14:30:00",
          "2014-06-07T14:40:00",
          "2014-06-07T14:50:00",
          "2014-06-07T15:00:00",
          "2014-06-07T15:10:00",
          "2014-06-07T15:20:00",
          "2014-06-07T15:30:00",
          "2014-06-07T15:40:00",
          "2014-06-07T15:50:00",
          "2014-06-07T16:00:00",
          "2014-06-07T16:10:00",
          "2014-06-07T16:20:00",
          "2014-06-07T16:30:00",
          "2014-06-07T16:40:00",
          "2014-06-07T16:50:00",
          "2014-06-07T17:00:00",
          "2014-06-07T17:10:00",
          "2014-06-07T17:20:00",
          "2014-06-07T17:30:00",
          "2014-06-07T17:40:00",
          "2014-06-07T17:50:00",
          "2014-06-07T18:00:00",
          "2014-06-07T18:10:00",
          "2014-06-07T18:20:00",
          "2014-06-07T18:30:00",
          "2014-06-07T18:40:00",
          "2014-06-07T18:50:00",
          "2014-06-07T19:00:00",
          "2014-06-07T19:10:00",
          "2014-06-07T19:20:00",
          "2014-06-07T19:30:00",
          "2014-06-07T19:40:00",
          "2014-06-07T19:50:00",
          "2014-06-07T20:00:00",
          "2014-06-07T20:10:00",
          "2014-06-07T20:20:00",
          "2014-06-07T20:30:00",
          "2014-06-07T20:40:00",
          "2014-06-07T20:50:00",
          "2014-06-07T21:00:00",
          "2014-06-07T21:10:00",
          "2014-06-07T21:20:00",
          "2014-06-07T21:30:00",
          "2014-06-07T21:40:00",
          "2014-06-07T21:50:00",
          "2014-06-07T22:00:00",
          "2014-06-07T22:10:00",
          "2014-06-07T22:20:00",
          "2014-06-07T22:30:00",
          "2014-06-07T22:40:00",
          "2014-06-07T22:50:00",
          "2014-06-07T23:00:00",
          "2014-06-07T23:10:00",
          "2014-06-07T23:20:00",
          "2014-06-07T23:30:00"
         ],
         "xaxis": "x2",
         "y": [
          2,
          18,
          40,
          62,
          72,
          88,
          111,
          124,
          127,
          133,
          121,
          105,
          107,
          96,
          127,
          109,
          106,
          122,
          138,
          146,
          124,
          137,
          151,
          125,
          144,
          125,
          151,
          134,
          146,
          142,
          126,
          140,
          137,
          126,
          141,
          140,
          133,
          139,
          130,
          130,
          139,
          113,
          90,
          101,
          115,
          118,
          108,
          101,
          109,
          120,
          118,
          128,
          144,
          155,
          131,
          148,
          134,
          131,
          141,
          130,
          133,
          138,
          126,
          141,
          129,
          135,
          151,
          144,
          148,
          115,
          135,
          141,
          130,
          158,
          123,
          116,
          106,
          90,
          102,
          88,
          81,
          81,
          71,
          51,
          55,
          39,
          42,
          42,
          12,
          9,
          22,
          15,
          4,
          1
         ],
         "yaxis": "y2"
        },
        {
         "fill": "tozeroy",
         "mode": "lines",
         "name": "Sunday",
         "type": "scatter",
         "x": [
          "2014-06-08T08:00:00",
          "2014-06-08T08:10:00",
          "2014-06-08T08:20:00",
          "2014-06-08T08:30:00",
          "2014-06-08T08:40:00",
          "2014-06-08T08:50:00",
          "2014-06-08T09:00:00",
          "2014-06-08T09:10:00",
          "2014-06-08T09:20:00",
          "2014-06-08T09:30:00",
          "2014-06-08T09:40:00",
          "2014-06-08T09:50:00",
          "2014-06-08T10:00:00",
          "2014-06-08T10:10:00",
          "2014-06-08T10:20:00",
          "2014-06-08T10:30:00",
          "2014-06-08T10:40:00",
          "2014-06-08T10:50:00",
          "2014-06-08T11:00:00",
          "2014-06-08T11:10:00",
          "2014-06-08T11:20:00",
          "2014-06-08T11:30:00",
          "2014-06-08T11:40:00",
          "2014-06-08T11:50:00",
          "2014-06-08T12:00:00",
          "2014-06-08T12:10:00",
          "2014-06-08T12:20:00",
          "2014-06-08T12:30:00",
          "2014-06-08T12:40:00",
          "2014-06-08T12:50:00",
          "2014-06-08T13:00:00",
          "2014-06-08T13:10:00",
          "2014-06-08T13:20:00",
          "2014-06-08T13:30:00",
          "2014-06-08T13:40:00",
          "2014-06-08T13:50:00",
          "2014-06-08T14:00:00",
          "2014-06-08T14:10:00",
          "2014-06-08T14:20:00",
          "2014-06-08T14:30:00",
          "2014-06-08T14:40:00",
          "2014-06-08T14:50:00",
          "2014-06-08T15:00:00",
          "2014-06-08T15:10:00",
          "2014-06-08T15:20:00",
          "2014-06-08T15:30:00",
          "2014-06-08T15:40:00",
          "2014-06-08T15:50:00",
          "2014-06-08T16:00:00",
          "2014-06-08T16:10:00",
          "2014-06-08T16:20:00",
          "2014-06-08T16:30:00",
          "2014-06-08T16:40:00",
          "2014-06-08T16:50:00",
          "2014-06-08T17:00:00",
          "2014-06-08T17:10:00",
          "2014-06-08T17:20:00",
          "2014-06-08T17:30:00",
          "2014-06-08T17:40:00",
          "2014-06-08T17:50:00",
          "2014-06-08T18:00:00",
          "2014-06-08T18:10:00",
          "2014-06-08T18:20:00",
          "2014-06-08T18:30:00",
          "2014-06-08T18:40:00",
          "2014-06-08T18:50:00",
          "2014-06-08T19:00:00",
          "2014-06-08T19:10:00",
          "2014-06-08T19:20:00",
          "2014-06-08T19:30:00",
          "2014-06-08T19:40:00",
          "2014-06-08T19:50:00",
          "2014-06-08T20:00:00",
          "2014-06-08T20:10:00",
          "2014-06-08T20:20:00",
          "2014-06-08T20:30:00",
          "2014-06-08T20:40:00",
          "2014-06-08T20:50:00",
          "2014-06-08T21:00:00",
          "2014-06-08T21:10:00",
          "2014-06-08T21:20:00",
          "2014-06-08T21:30:00",
          "2014-06-08T21:40:00",
          "2014-06-08T21:50:00",
          "2014-06-08T22:00:00",
          "2014-06-08T22:10:00",
          "2014-06-08T22:20:00",
          "2014-06-08T22:30:00",
          "2014-06-08T22:40:00",
          "2014-06-08T22:50:00",
          "2014-06-08T23:00:00",
          "2014-06-08T23:10:00",
          "2014-06-08T23:20:00"
         ],
         "xaxis": "x3",
         "y": [
          6,
          27,
          46,
          73,
          96,
          125,
          153,
          166,
          125,
          158,
          134,
          134,
          162,
          147,
          155,
          143,
          125,
          137,
          137,
          157,
          159,
          171,
          172,
          165,
          7030,
          9498,
          4674,
          1375,
          474,
          504,
          597,
          782,
          525,
          414,
          541,
          614,
          612,
          490,
          480,
          536,
          2211,
          2076,
          666,
          432,
          461,
          454,
          322,
          156,
          144,
          161,
          161,
          153,
          155,
          167,
          161,
          172,
          143,
          167,
          184,
          165,
          182,
          168,
          179,
          153,
          175,
          176,
          165,
          171,
          183,
          193,
          171,
          141,
          171,
          159,
          152,
          151,
          109,
          111,
          116,
          124,
          104,
          82,
          74,
          64,
          61,
          77,
          46,
          36,
          15,
          15,
          8,
          15,
          4
         ],
         "yaxis": "y3"
        }
       ],
       "layout": {
        "annotations": [
         {
          "font": {
           "size": 16
          },
          "showarrow": false,
          "text": "Friday",
          "x": 0.5,
          "xanchor": "center",
          "xref": "paper",
          "y": 1,
          "yanchor": "bottom",
          "yref": "paper"
         },
         {
          "font": {
           "size": 16
          },
          "showarrow": false,
          "text": "Saturday",
          "x": 0.5,
          "xanchor": "center",
          "xref": "paper",
          "y": 0.6111111111111112,
          "yanchor": "bottom",
          "yref": "paper"
         },
         {
          "font": {
           "size": 16
          },
          "showarrow": false,
          "text": "Sunday",
          "x": 0.5,
          "xanchor": "center",
          "xref": "paper",
          "y": 0.22222222222222224,
          "yanchor": "bottom",
          "yref": "paper"
         }
        ],
        "height": 900,
        "template": {
         "data": {
          "bar": [
           {
            "error_x": {
             "color": "#2a3f5f"
            },
            "error_y": {
             "color": "#2a3f5f"
            },
            "marker": {
             "line": {
              "color": "#E5ECF6",
              "width": 0.5
             },
             "pattern": {
              "fillmode": "overlay",
              "size": 10,
              "solidity": 0.2
             }
            },
            "type": "bar"
           }
          ],
          "barpolar": [
           {
            "marker": {
             "line": {
              "color": "#E5ECF6",
              "width": 0.5
             },
             "pattern": {
              "fillmode": "overlay",
              "size": 10,
              "solidity": 0.2
             }
            },
            "type": "barpolar"
           }
          ],
          "carpet": [
           {
            "aaxis": {
             "endlinecolor": "#2a3f5f",
             "gridcolor": "white",
             "linecolor": "white",
             "minorgridcolor": "white",
             "startlinecolor": "#2a3f5f"
            },
            "baxis": {
             "endlinecolor": "#2a3f5f",
             "gridcolor": "white",
             "linecolor": "white",
             "minorgridcolor": "white",
             "startlinecolor": "#2a3f5f"
            },
            "type": "carpet"
           }
          ],
          "choropleth": [
           {
            "colorbar": {
             "outlinewidth": 0,
             "ticks": ""
            },
            "type": "choropleth"
           }
          ],
          "contour": [
           {
            "colorbar": {
             "outlinewidth": 0,
             "ticks": ""
            },
            "colorscale": [
             [
              0,
              "#0d0887"
             ],
             [
              0.1111111111111111,
              "#46039f"
             ],
             [
              0.2222222222222222,
              "#7201a8"
             ],
             [
              0.3333333333333333,
              "#9c179e"
             ],
             [
              0.4444444444444444,
              "#bd3786"
             ],
             [
              0.5555555555555556,
              "#d8576b"
             ],
             [
              0.6666666666666666,
              "#ed7953"
             ],
             [
              0.7777777777777778,
              "#fb9f3a"
             ],
             [
              0.8888888888888888,
              "#fdca26"
             ],
             [
              1,
              "#f0f921"
             ]
            ],
            "type": "contour"
           }
          ],
          "contourcarpet": [
           {
            "colorbar": {
             "outlinewidth": 0,
             "ticks": ""
            },
            "type": "contourcarpet"
           }
          ],
          "heatmap": [
           {
            "colorbar": {
             "outlinewidth": 0,
             "ticks": ""
            },
            "colorscale": [
             [
              0,
              "#0d0887"
             ],
             [
              0.1111111111111111,
              "#46039f"
             ],
             [
              0.2222222222222222,
              "#7201a8"
             ],
             [
              0.3333333333333333,
              "#9c179e"
             ],
             [
              0.4444444444444444,
              "#bd3786"
             ],
             [
              0.5555555555555556,
              "#d8576b"
             ],
             [
              0.6666666666666666,
              "#ed7953"
             ],
             [
              0.7777777777777778,
              "#fb9f3a"
             ],
             [
              0.8888888888888888,
              "#fdca26"
             ],
             [
              1,
              "#f0f921"
             ]
            ],
            "type": "heatmap"
           }
          ],
          "heatmapgl": [
           {
            "colorbar": {
             "outlinewidth": 0,
             "ticks": ""
            },
            "colorscale": [
             [
              0,
              "#0d0887"
             ],
             [
              0.1111111111111111,
              "#46039f"
             ],
             [
              0.2222222222222222,
              "#7201a8"
             ],
             [
              0.3333333333333333,
              "#9c179e"
             ],
             [
              0.4444444444444444,
              "#bd3786"
             ],
             [
              0.5555555555555556,
              "#d8576b"
             ],
             [
              0.6666666666666666,
              "#ed7953"
             ],
             [
              0.7777777777777778,
              "#fb9f3a"
             ],
             [
              0.8888888888888888,
              "#fdca26"
             ],
             [
              1,
              "#f0f921"
             ]
            ],
            "type": "heatmapgl"
           }
          ],
          "histogram": [
           {
            "marker": {
             "pattern": {
              "fillmode": "overlay",
              "size": 10,
              "solidity": 0.2
             }
            },
            "type": "histogram"
           }
          ],
          "histogram2d": [
           {
            "colorbar": {
             "outlinewidth": 0,
             "ticks": ""
            },
            "colorscale": [
             [
              0,
              "#0d0887"
             ],
             [
              0.1111111111111111,
              "#46039f"
             ],
             [
              0.2222222222222222,
              "#7201a8"
             ],
             [
              0.3333333333333333,
              "#9c179e"
             ],
             [
              0.4444444444444444,
              "#bd3786"
             ],
             [
              0.5555555555555556,
              "#d8576b"
             ],
             [
              0.6666666666666666,
              "#ed7953"
             ],
             [
              0.7777777777777778,
              "#fb9f3a"
             ],
             [
              0.8888888888888888,
              "#fdca26"
             ],
             [
              1,
              "#f0f921"
             ]
            ],
            "type": "histogram2d"
           }
          ],
          "histogram2dcontour": [
           {
            "colorbar": {
             "outlinewidth": 0,
             "ticks": ""
            },
            "colorscale": [
             [
              0,
              "#0d0887"
             ],
             [
              0.1111111111111111,
              "#46039f"
             ],
             [
              0.2222222222222222,
              "#7201a8"
             ],
             [
              0.3333333333333333,
              "#9c179e"
             ],
             [
              0.4444444444444444,
              "#bd3786"
             ],
             [
              0.5555555555555556,
              "#d8576b"
             ],
             [
              0.6666666666666666,
              "#ed7953"
             ],
             [
              0.7777777777777778,
              "#fb9f3a"
             ],
             [
              0.8888888888888888,
              "#fdca26"
             ],
             [
              1,
              "#f0f921"
             ]
            ],
            "type": "histogram2dcontour"
           }
          ],
          "mesh3d": [
           {
            "colorbar": {
             "outlinewidth": 0,
             "ticks": ""
            },
            "type": "mesh3d"
           }
          ],
          "parcoords": [
           {
            "line": {
             "colorbar": {
              "outlinewidth": 0,
              "ticks": ""
             }
            },
            "type": "parcoords"
           }
          ],
          "pie": [
           {
            "automargin": true,
            "type": "pie"
           }
          ],
          "scatter": [
           {
            "fillpattern": {
             "fillmode": "overlay",
             "size": 10,
             "solidity": 0.2
            },
            "type": "scatter"
           }
          ],
          "scatter3d": [
           {
            "line": {
             "colorbar": {
              "outlinewidth": 0,
              "ticks": ""
             }
            },
            "marker": {
             "colorbar": {
              "outlinewidth": 0,
              "ticks": ""
             }
            },
            "type": "scatter3d"
           }
          ],
          "scattercarpet": [
           {
            "marker": {
             "colorbar": {
              "outlinewidth": 0,
              "ticks": ""
             }
            },
            "type": "scattercarpet"
           }
          ],
          "scattergeo": [
           {
            "marker": {
             "colorbar": {
              "outlinewidth": 0,
              "ticks": ""
             }
            },
            "type": "scattergeo"
           }
          ],
          "scattergl": [
           {
            "marker": {
             "colorbar": {
              "outlinewidth": 0,
              "ticks": ""
             }
            },
            "type": "scattergl"
           }
          ],
          "scattermapbox": [
           {
            "marker": {
             "colorbar": {
              "outlinewidth": 0,
              "ticks": ""
             }
            },
            "type": "scattermapbox"
           }
          ],
          "scatterpolar": [
           {
            "marker": {
             "colorbar": {
              "outlinewidth": 0,
              "ticks": ""
             }
            },
            "type": "scatterpolar"
           }
          ],
          "scatterpolargl": [
           {
            "marker": {
             "colorbar": {
              "outlinewidth": 0,
              "ticks": ""
             }
            },
            "type": "scatterpolargl"
           }
          ],
          "scatterternary": [
           {
            "marker": {
             "colorbar": {
              "outlinewidth": 0,
              "ticks": ""
             }
            },
            "type": "scatterternary"
           }
          ],
          "surface": [
           {
            "colorbar": {
             "outlinewidth": 0,
             "ticks": ""
            },
            "colorscale": [
             [
              0,
              "#0d0887"
             ],
             [
              0.1111111111111111,
              "#46039f"
             ],
             [
              0.2222222222222222,
              "#7201a8"
             ],
             [
              0.3333333333333333,
              "#9c179e"
             ],
             [
              0.4444444444444444,
              "#bd3786"
             ],
             [
              0.5555555555555556,
              "#d8576b"
             ],
             [
              0.6666666666666666,
              "#ed7953"
             ],
             [
              0.7777777777777778,
              "#fb9f3a"
             ],
             [
              0.8888888888888888,
              "#fdca26"
             ],
             [
              1,
              "#f0f921"
             ]
            ],
            "type": "surface"
           }
          ],
          "table": [
           {
            "cells": {
             "fill": {
              "color": "#EBF0F8"
             },
             "line": {
              "color": "white"
             }
            },
            "header": {
             "fill": {
              "color": "#C8D4E3"
             },
             "line": {
              "color": "white"
             }
            },
            "type": "table"
           }
          ]
         },
         "layout": {
          "annotationdefaults": {
           "arrowcolor": "#2a3f5f",
           "arrowhead": 0,
           "arrowwidth": 1
          },
          "autotypenumbers": "strict",
          "coloraxis": {
           "colorbar": {
            "outlinewidth": 0,
            "ticks": ""
           }
          },
          "colorscale": {
           "diverging": [
            [
             0,
             "#8e0152"
            ],
            [
             0.1,
             "#c51b7d"
            ],
            [
             0.2,
             "#de77ae"
            ],
            [
             0.3,
             "#f1b6da"
            ],
            [
             0.4,
             "#fde0ef"
            ],
            [
             0.5,
             "#f7f7f7"
            ],
            [
             0.6,
             "#e6f5d0"
            ],
            [
             0.7,
             "#b8e186"
            ],
            [
             0.8,
             "#7fbc41"
            ],
            [
             0.9,
             "#4d9221"
            ],
            [
             1,
             "#276419"
            ]
           ],
           "sequential": [
            [
             0,
             "#0d0887"
            ],
            [
             0.1111111111111111,
             "#46039f"
            ],
            [
             0.2222222222222222,
             "#7201a8"
            ],
            [
             0.3333333333333333,
             "#9c179e"
            ],
            [
             0.4444444444444444,
             "#bd3786"
            ],
            [
             0.5555555555555556,
             "#d8576b"
            ],
            [
             0.6666666666666666,
             "#ed7953"
            ],
            [
             0.7777777777777778,
             "#fb9f3a"
            ],
            [
             0.8888888888888888,
             "#fdca26"
            ],
            [
             1,
             "#f0f921"
            ]
           ],
           "sequentialminus": [
            [
             0,
             "#0d0887"
            ],
            [
             0.1111111111111111,
             "#46039f"
            ],
            [
             0.2222222222222222,
             "#7201a8"
            ],
            [
             0.3333333333333333,
             "#9c179e"
            ],
            [
             0.4444444444444444,
             "#bd3786"
            ],
            [
             0.5555555555555556,
             "#d8576b"
            ],
            [
             0.6666666666666666,
             "#ed7953"
            ],
            [
             0.7777777777777778,
             "#fb9f3a"
            ],
            [
             0.8888888888888888,
             "#fdca26"
            ],
            [
             1,
             "#f0f921"
            ]
           ]
          },
          "colorway": [
           "#636efa",
           "#EF553B",
           "#00cc96",
           "#ab63fa",
           "#FFA15A",
           "#19d3f3",
           "#FF6692",
           "#B6E880",
           "#FF97FF",
           "#FECB52"
          ],
          "font": {
           "color": "#2a3f5f"
          },
          "geo": {
           "bgcolor": "white",
           "lakecolor": "white",
           "landcolor": "#E5ECF6",
           "showlakes": true,
           "showland": true,
           "subunitcolor": "white"
          },
          "hoverlabel": {
           "align": "left"
          },
          "hovermode": "closest",
          "mapbox": {
           "style": "light"
          },
          "paper_bgcolor": "white",
          "plot_bgcolor": "#E5ECF6",
          "polar": {
           "angularaxis": {
            "gridcolor": "white",
            "linecolor": "white",
            "ticks": ""
           },
           "bgcolor": "#E5ECF6",
           "radialaxis": {
            "gridcolor": "white",
            "linecolor": "white",
            "ticks": ""
           }
          },
          "scene": {
           "xaxis": {
            "backgroundcolor": "#E5ECF6",
            "gridcolor": "white",
            "gridwidth": 2,
            "linecolor": "white",
            "showbackground": true,
            "ticks": "",
            "zerolinecolor": "white"
           },
           "yaxis": {
            "backgroundcolor": "#E5ECF6",
            "gridcolor": "white",
            "gridwidth": 2,
            "linecolor": "white",
            "showbackground": true,
            "ticks": "",
            "zerolinecolor": "white"
           },
           "zaxis": {
            "backgroundcolor": "#E5ECF6",
            "gridcolor": "white",
            "gridwidth": 2,
            "linecolor": "white",
            "showbackground": true,
            "ticks": "",
            "zerolinecolor": "white"
           }
          },
          "shapedefaults": {
           "line": {
            "color": "#2a3f5f"
           }
          },
          "ternary": {
           "aaxis": {
            "gridcolor": "white",
            "linecolor": "white",
            "ticks": ""
           },
           "baxis": {
            "gridcolor": "white",
            "linecolor": "white",
            "ticks": ""
           },
           "bgcolor": "#E5ECF6",
           "caxis": {
            "gridcolor": "white",
            "linecolor": "white",
            "ticks": ""
           }
          },
          "title": {
           "x": 0.05
          },
          "xaxis": {
           "automargin": true,
           "gridcolor": "white",
           "linecolor": "white",
           "ticks": "",
           "title": {
            "standoff": 15
           },
           "zerolinecolor": "white",
           "zerolinewidth": 2
          },
          "yaxis": {
           "automargin": true,
           "gridcolor": "white",
           "linecolor": "white",
           "ticks": "",
           "title": {
            "standoff": 15
           },
           "zerolinecolor": "white",
           "zerolinewidth": 2
          }
         }
        },
        "title": {
         "text": "Frequency of Calls Per Ten Minutes (Friday to Sunday)"
        },
        "width": 800,
        "xaxis": {
         "anchor": "y",
         "domain": [
          0,
          1
         ],
         "title": {
          "text": "Time"
         }
        },
        "xaxis2": {
         "anchor": "y2",
         "domain": [
          0,
          1
         ],
         "title": {
          "text": "Time"
         }
        },
        "xaxis3": {
         "anchor": "y3",
         "domain": [
          0,
          1
         ],
         "title": {
          "text": "Time"
         }
        },
        "yaxis": {
         "anchor": "x",
         "domain": [
          0.7777777777777778,
          1
         ],
         "range": [
          0,
          15000
         ],
         "title": {
          "text": "Number of Calls"
         }
        },
        "yaxis2": {
         "anchor": "x2",
         "domain": [
          0.3888888888888889,
          0.6111111111111112
         ],
         "range": [
          0,
          15000
         ],
         "title": {
          "text": "Number of Calls"
         }
        },
        "yaxis3": {
         "anchor": "x3",
         "domain": [
          0,
          0.22222222222222224
         ],
         "range": [
          0,
          15000
         ],
         "title": {
          "text": "Number of Calls"
         }
        }
       }
      }
     },
     "metadata": {},
     "output_type": "display_data"
    }
   ],
   "source": [
    "fig = make_subplots(rows=3, cols=1, subplot_titles=[\"Friday\", \"Saturday\", \"Sunday\"])\n",
    "\n",
    "# Friday plot (First row)\n",
    "fig.add_trace(\n",
    "    go.Scatter(x=frequency_comm_fri_df['ten_min'], \n",
    "               y=frequency_comm_fri_df['Calls'], \n",
    "               mode='lines', name='Friday',\n",
    "               fill='tozeroy',),\n",
    "    row=1, col=1\n",
    ")\n",
    "\n",
    "# Saturday plot (Second row)\n",
    "fig.add_trace(\n",
    "    go.Scatter(x=frequency_comm_sat_df['ten_min'], \n",
    "               y=frequency_comm_sat_df['Calls'], \n",
    "               mode='lines', name='Saturday',\n",
    "               fill ='tozeroy',),\n",
    "    row=2, col=1\n",
    ")\n",
    "\n",
    "# Sunday plot (Third row)\n",
    "fig.add_trace(\n",
    "    go.Scatter(x=frequency_comm_sun_df['ten_min'], \n",
    "               y=frequency_comm_sun_df['Calls'], \n",
    "               mode='lines', name='Sunday', \n",
    "               fill='tozeroy',),\n",
    "    row=3, col=1\n",
    ")\n",
    "\n",
    "fig.update_layout(\n",
    "    height=900, width=800, \n",
    "    title_text=\"Frequency of Calls Per Ten Minutes (Friday to Sunday)\", \n",
    "\n",
    "    # Set y-axis ranges for each subplot\n",
    "    yaxis=dict(range=[0, 15000], title='Number of Calls'),\n",
    "    yaxis2=dict(range=[0, 15000], title='Number of Calls'),\n",
    "    yaxis3=dict(range=[0, 15000], title='Number of Calls'),\n",
    "\n",
    "    xaxis=dict(title='Time'),\n",
    "    xaxis2=dict(title='Time'),\n",
    "    xaxis3=dict(title='Time')\n",
    ")\n",
    "\n",
    "# Display the figure\n",
    "fig.show()"
   ]
  }
 ],
 "metadata": {
  "kernelspec": {
   "display_name": "Python 3.9.6 64-bit",
   "language": "python",
   "name": "python3"
  },
  "language_info": {
   "codemirror_mode": {
    "name": "ipython",
    "version": 3
   },
   "file_extension": ".py",
   "mimetype": "text/x-python",
   "name": "python",
   "nbconvert_exporter": "python",
   "pygments_lexer": "ipython3",
   "version": "3.10.9"
  },
  "orig_nbformat": 4,
  "vscode": {
   "interpreter": {
    "hash": "31f2aee4e71d21fbe5cf8b01ff0e069b9275f58929596ceb00d14d90e3e16cd6"
   }
  }
 },
 "nbformat": 4,
 "nbformat_minor": 2
}
