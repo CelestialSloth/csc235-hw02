{
 "cells": [
  {
   "cell_type": "code",
   "execution_count": 1,
   "metadata": {},
   "outputs": [],
   "source": [
    "import plotly.express as px, pandas as pd\n",
    "import plotly.graph_objects as go\n",
    "from plotly.subplots import make_subplots\n"
   ]
  },
  {
   "cell_type": "code",
   "execution_count": null,
   "metadata": {},
   "outputs": [],
   "source": [
    "# #Friday df with amount of calls per 5min intervals\n",
    "# comm_fri_df = pd.read_csv('hw02-data/Communication_data/comm-data-Fri.csv')\n",
    "# comm_fri_df['Timestamp'] = pd.to_datetime(comm_fri_df['Timestamp'])\n",
    "# comm_fri_df['ten_min'] = comm_fri_df['Timestamp'].dt.round('10min')\n",
    "# frequency_comm_fri_df = comm_fri_df.groupby('ten_min').size().reset_index(name='Calls')\n",
    "# frequency_comm_fri_df.head()\n"
   ]
  },
  {
   "cell_type": "code",
   "execution_count": null,
   "metadata": {},
   "outputs": [],
   "source": [
    "# #Saturday df with amount of calls per 5min intervals\n",
    "# comm_sat_df = pd.read_csv('hw02-data/Communication_data/comm-data-Sat.csv')\n",
    "# comm_sat_df['Timestamp'] = pd.to_datetime(comm_sat_df['Timestamp'])\n",
    "# comm_sat_df['ten_min'] = comm_sat_df['Timestamp'].dt.round('10min')\n",
    "# frequency_comm_sat_df = comm_sat_df.groupby('ten_min').size().reset_index(name='Calls')\n",
    "# frequency_comm_sat_df.head()"
   ]
  },
  {
   "cell_type": "code",
   "execution_count": 9,
   "metadata": {},
   "outputs": [],
   "source": [
    "#Sunday df with amount of calls per 5min intervals\n",
    "# get rows just for Sunday 11:30am-12:30pm\n",
    "comm_sun_df = pd.read_csv('hw02-data/Communication Data/comm-data-Sun.csv', names=(\"Timestamp\",\"from\",\"to\",\"location\"),skiprows=238000,nrows=428100-238000)\n",
    "comm_sun_df['Timestamp'] = pd.to_datetime(comm_sun_df['Timestamp'])\n",
    "\n",
    "moves_sun_df = pd.read_csv('hw02-data/Movement Data/park-movement-Sun.csv', names=(\"Timestamp\",\"id\",\"type\",\"X\",\"Y\"),skiprows=2788470,nrows=3700550-2788470)\n",
    "moves_sun_df['Timestamp'] = pd.to_datetime(moves_sun_df['Timestamp'])\n",
    "# comm_sun_df['ten_min'] = comm_sun_df['Timestamp'].dt.round('10min')\n",
    "# frequency_comm_sun_df = comm_sun_df.groupby('ten_min').size().reset_index(name='Calls')\n",
    "# frequency_comm_sun_df"
   ]
  },
  {
   "cell_type": "code",
   "execution_count": null,
   "metadata": {},
   "outputs": [],
   "source": [
    "fig = make_subplots(rows=3, cols=1, subplot_titles=[\"Friday\", \"Saturday\", \"Sunday\"])\n",
    "\n",
    "# Friday plot (First row)\n",
    "fig.add_trace(\n",
    "    go.Scatter(x=frequency_comm_fri_df['ten_min'], \n",
    "               y=frequency_comm_fri_df['Calls'], \n",
    "               mode='lines', name='Friday',\n",
    "               fill='tozeroy',),\n",
    "    row=1, col=1\n",
    ")\n",
    "\n",
    "# Saturday plot (Second row)\n",
    "fig.add_trace(\n",
    "    go.Scatter(x=frequency_comm_sat_df['ten_min'], \n",
    "               y=frequency_comm_sat_df['Calls'], \n",
    "               mode='lines', name='Saturday',\n",
    "               fill ='tozeroy',),\n",
    "    row=2, col=1\n",
    ")\n",
    "\n",
    "# Sunday plot (Third row)\n",
    "fig.add_trace(\n",
    "    go.Scatter(x=frequency_comm_sun_df['ten_min'], \n",
    "               y=frequency_comm_sun_df['Calls'], \n",
    "               mode='lines', name='Sunday', \n",
    "               fill='tozeroy',),\n",
    "    row=3, col=1\n",
    ")\n",
    "\n",
    "fig.update_layout(\n",
    "    height=900, width=800, \n",
    "    title_text=\"Frequency of Calls Per Ten Minutes (Friday to Sunday)\", \n",
    "\n",
    "    # Set y-axis ranges for each subplot\n",
    "    yaxis=dict(range=[0, 45000], title='Number of Calls'),\n",
    "    yaxis2=dict(range=[0, 45000], title='Number of Calls'),\n",
    "    yaxis3=dict(range=[0, 45000], title='Number of Calls'),\n",
    "\n",
    "    xaxis=dict(title='Time'),\n",
    "    xaxis2=dict(title='Time'),\n",
    "    xaxis3=dict(title='Time')\n",
    ")\n",
    "\n",
    "# Display the figure\n",
    "fig.show()"
   ]
  }
 ],
 "metadata": {
  "kernelspec": {
   "display_name": "Python 3.9.6 64-bit",
   "language": "python",
   "name": "python3"
  },
  "language_info": {
   "codemirror_mode": {
    "name": "ipython",
    "version": 3
   },
   "file_extension": ".py",
   "mimetype": "text/x-python",
   "name": "python",
   "nbconvert_exporter": "python",
   "pygments_lexer": "ipython3",
   "version": "3.11.3"
  },
  "orig_nbformat": 4,
  "vscode": {
   "interpreter": {
    "hash": "31f2aee4e71d21fbe5cf8b01ff0e069b9275f58929596ceb00d14d90e3e16cd6"
   }
  }
 },
 "nbformat": 4,
 "nbformat_minor": 2
}
