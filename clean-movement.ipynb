{
 "cells": [
  {
   "cell_type": "code",
   "execution_count": 2,
   "metadata": {},
   "outputs": [],
   "source": [
    "import csv\n",
    "from datetime import datetime"
   ]
  },
  {
   "cell_type": "code",
   "execution_count": 3,
   "metadata": {},
   "outputs": [],
   "source": [
    "# number of seconds since 8am\n",
    "def time_unit(timestamp):\n",
    "    hh_mm_ss = timestamp.split(' ')[1]\n",
    "    arr = hh_mm_ss.split(':')\n",
    "    h = int(arr[0])\n",
    "    m = int(arr[1])\n",
    "    s = int(arr[2])\n",
    "    return s + m*60 + (h-8)*60*60"
   ]
  },
  {
   "cell_type": "markdown",
   "metadata": {},
   "source": [
    "Want: one csv file in the form\n",
    "\n",
    "```id, [x @ ts1, y @ ts1, RIDE?], [x @ ts2, y @ ts2, RIDE?], ..., [x @ ts57600, y @ ts57600, RIDE?]```\n",
    "\n",
    "Need to consider what the loc should be if the person is on a ride.\n",
    "Also, it looks like the movement csv files are sorted by timestamp, which is super helpful."
   ]
  },
  {
   "cell_type": "code",
   "execution_count": 4,
   "metadata": {},
   "outputs": [],
   "source": [
    "movement_data_prefix = './hw02-data/Movement Data/park-movement'\n",
    "day = 'Fri'\n",
    "movement_data_path = f'{movement_data_prefix}-{day}.csv'"
   ]
  },
  {
   "cell_type": "code",
   "execution_count": 5,
   "metadata": {},
   "outputs": [],
   "source": [
    "# first, gather all of the possible ids by traversing the csv file once\n",
    "id_dict = {}\n",
    "with open(movement_data_path) as movement_data_csv:\n",
    "    reader = csv.reader(movement_data_csv)\n",
    "    first_row = True\n",
    "    for row in reader:\n",
    "        if first_row:\n",
    "            first_row = False\n",
    "            continue\n",
    "        id = row[1]\n",
    "        id_dict[id] = True"
   ]
  },
  {
   "cell_type": "code",
   "execution_count": 36,
   "metadata": {},
   "outputs": [
    {
     "data": {
      "text/plain": [
       "3557"
      ]
     },
     "execution_count": 36,
     "metadata": {},
     "output_type": "execute_result"
    }
   ],
   "source": [
    "len(id_dict.keys())"
   ]
  },
  {
   "cell_type": "code",
   "execution_count": 11,
   "metadata": {},
   "outputs": [],
   "source": [
    "movement_data_by_id_path = f'{movement_data_prefix}-{day}-by-id.csv'\n",
    "\n",
    "# new movement data file to write to\n",
    "with open(movement_data_by_id_path, 'a', newline='') as movement_data_by_id_csv:\n",
    "    writer = csv.writer(movement_data_by_id_csv)\n",
    "\n",
    "    # original movement data to read from\n",
    "    with open(movement_data_path) as movement_data_csv:\n",
    "        # row in format [Timestamp,id,type,X,Y]\n",
    "        reader = csv.reader(movement_data_csv)\n",
    "\n",
    "        # create movement data based on id\n",
    "        for id in id_dict.keys():\n",
    "            id_row = [id]\n",
    "            id_row.extend([None]*16*60*60)\n",
    "            first_row = True\n",
    "            if not first_row:\n",
    "                exit\n",
    "            for row in reader:\n",
    "                if first_row:\n",
    "                    first_row = False\n",
    "                    continue\n",
    "                # check if the id matches\n",
    "                row_id = row[1]\n",
    "                if not id == row_id:\n",
    "                    continue\n",
    "                row_timestamp = row[0]\n",
    "                row_time_unit = time_unit(row_timestamp)\n",
    "                row_x = row[3]\n",
    "                row_y = row[4]\n",
    "                row_type = row[2]\n",
    "                id_row[row_time_unit + 1] = [row_x, row_y, row_type]\n",
    "                \n",
    "            # if last time was 'check in' and then there's anything after it, record as same location and put type='ride'\n",
    "            # if last time was 'movement' and there's anything after it, record as same location and put type='stopped'\n",
    "            i = 1\n",
    "            # move to first non-None cell\n",
    "            while id_row[i] is None and i < len(id_row)-1:\n",
    "                i += 1\n",
    "\n",
    "            while i < len(id_row)-1:\n",
    "                # ensure this isn't just the last timestamp that they were in the park\n",
    "                j = i+1\n",
    "                left_park = False\n",
    "                while id_row[j] is None:\n",
    "                    j += 1\n",
    "                    if j >= len(id_row) - 1:\n",
    "                        left_park = True\n",
    "                        break\n",
    "\n",
    "                # if they were in the park the whole time, fill in the missing time stamps with either 'ride' or 'stop' location, inferred from last seen timestamp\n",
    "                if not left_park:\n",
    "                    j = i + 1\n",
    "                    while id_row[j] is None:\n",
    "                        id_row[j] = [id_row[i][0], id_row[i][1], None]\n",
    "                        if id_row[i][2] == 'check-in':\n",
    "                             id_row[j][2] = 'ride'\n",
    "                        elif id_row[i][2] == 'movement':\n",
    "                             id_row[j][2] = 'stop'\n",
    "                        j += 1      \n",
    "                i = j\n",
    "            \n",
    "            # finally, write the row into the csv file\n",
    "            written_row = [id]\n",
    "            first_pos = True\n",
    "            for loc in id_row:\n",
    "                if first_pos:\n",
    "                    first_pos = False\n",
    "                    continue\n",
    "                if loc is None:\n",
    "                    written_row.extend([None, None, None])\n",
    "                else:\n",
    "                    written_row.append(loc[0])\n",
    "                    written_row.append(loc[1])\n",
    "                    written_row.append(loc[2])\n",
    "            writer.writerow(written_row)\n"
   ]
  },
  {
   "cell_type": "markdown",
   "metadata": {},
   "source": [
    "\n",
    "Want: another csv file in the form\n",
    "\n",
    "``timestamp, id, x, y, onride?``\n",
    "\n",
    "* basically, the same as the park-movement csv files, except every timestamp for every id"
   ]
  }
 ],
 "metadata": {
  "kernelspec": {
   "display_name": "csc235env",
   "language": "python",
   "name": "python3"
  },
  "language_info": {
   "codemirror_mode": {
    "name": "ipython",
    "version": 3
   },
   "file_extension": ".py",
   "mimetype": "text/x-python",
   "name": "python",
   "nbconvert_exporter": "python",
   "pygments_lexer": "ipython3",
   "version": "3.10.9"
  }
 },
 "nbformat": 4,
 "nbformat_minor": 2
}
